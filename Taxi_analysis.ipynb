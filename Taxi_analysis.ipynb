{
 "cells": [
  {
   "cell_type": "code",
   "execution_count": 1,
   "id": "107fbc6f",
   "metadata": {},
   "outputs": [
    {
     "data": {
      "text/plain": [
       "'/Users/top/Desktop/Job/taxi_analysis'"
      ]
     },
     "execution_count": 1,
     "metadata": {},
     "output_type": "execute_result"
    }
   ],
   "source": [
    "pwd"
   ]
  },
  {
   "cell_type": "code",
   "execution_count": 2,
   "id": "9fa7808f",
   "metadata": {},
   "outputs": [],
   "source": [
    "import pandas as pd\n",
    "import numpy as np\n",
    "import seaborn as sns                       #visualisation\n",
    "import matplotlib.pyplot as plt             #visualisation\n",
    "%matplotlib inline     \n",
    "sns.set(color_codes=True)\n",
    "import json"
   ]
  },
  {
   "cell_type": "markdown",
   "id": "549b5b9e",
   "metadata": {},
   "source": [
    "# Import Data"
   ]
  },
  {
   "cell_type": "code",
   "execution_count": 3,
   "id": "02d744f9",
   "metadata": {},
   "outputs": [
    {
     "name": "stderr",
     "output_type": "stream",
     "text": [
      "/Users/top/opt/anaconda3/lib/python3.7/site-packages/IPython/core/interactiveshell.py:3457: DtypeWarning: Columns (6) have mixed types.Specify dtype option on import or set low_memory=False.\n",
      "  exec(code_obj, self.user_global_ns, self.user_ns)\n"
     ]
    }
   ],
   "source": [
    "df = pd.read_csv(\"yellow_tripdata_2021-01_raw_updated.csv\")"
   ]
  },
  {
   "cell_type": "markdown",
   "id": "3c9baedd",
   "metadata": {},
   "source": [
    "# EDA"
   ]
  },
  {
   "cell_type": "markdown",
   "id": "23f7f31b",
   "metadata": {},
   "source": [
    "Check Duplicate row"
   ]
  },
  {
   "cell_type": "code",
   "execution_count": 4,
   "id": "309f05b0",
   "metadata": {},
   "outputs": [
    {
     "name": "stdout",
     "output_type": "stream",
     "text": [
      "number of duplicate rows:  (0, 16)\n"
     ]
    }
   ],
   "source": [
    "duplicate_rows_df = df[df.duplicated()]\n",
    "print(\"number of duplicate rows: \", duplicate_rows_df.shape)"
   ]
  },
  {
   "cell_type": "markdown",
   "id": "4cd82bb7",
   "metadata": {},
   "source": [
    "Check Null"
   ]
  },
  {
   "cell_type": "code",
   "execution_count": 5,
   "id": "fc551943",
   "metadata": {},
   "outputs": [
    {
     "name": "stdout",
     "output_type": "stream",
     "text": [
      "VendorID                     0\n",
      "tpep_pickup_datetime         0\n",
      "tpep_dropoff_datetime        0\n",
      "passenger_count          98352\n",
      "trip_distance                0\n",
      "RatecodeID               98352\n",
      "store_and_fwd_flag       98352\n",
      "PULocationID                 0\n",
      "DOLocationID                 0\n",
      "payment_type                 0\n",
      "fare_amount                  0\n",
      "extra                        0\n",
      "mta_tax                      0\n",
      "tip_amount                   0\n",
      "tolls_amount                 0\n",
      "tripId                       0\n",
      "dtype: int64\n"
     ]
    }
   ],
   "source": [
    "print(df.isnull().sum())"
   ]
  },
  {
   "cell_type": "code",
   "execution_count": 6,
   "id": "bf252003",
   "metadata": {},
   "outputs": [
    {
     "data": {
      "text/plain": [
       "VendorID                 1271413\n",
       "tpep_pickup_datetime     1271413\n",
       "tpep_dropoff_datetime    1271413\n",
       "passenger_count          1271413\n",
       "trip_distance            1271413\n",
       "RatecodeID               1271413\n",
       "store_and_fwd_flag       1271413\n",
       "PULocationID             1271413\n",
       "DOLocationID             1271413\n",
       "payment_type             1271413\n",
       "fare_amount              1271413\n",
       "extra                    1271413\n",
       "mta_tax                  1271413\n",
       "tip_amount               1271413\n",
       "tolls_amount             1271413\n",
       "tripId                   1271413\n",
       "dtype: int64"
      ]
     },
     "execution_count": 6,
     "metadata": {},
     "output_type": "execute_result"
    }
   ],
   "source": [
    "df = df.dropna()\n",
    "df.count()"
   ]
  },
  {
   "cell_type": "markdown",
   "id": "e668f20f",
   "metadata": {},
   "source": [
    "Check data type"
   ]
  },
  {
   "cell_type": "code",
   "execution_count": 7,
   "id": "a2a06eb5",
   "metadata": {},
   "outputs": [
    {
     "data": {
      "text/plain": [
       "VendorID                 float64\n",
       "tpep_pickup_datetime      object\n",
       "tpep_dropoff_datetime     object\n",
       "passenger_count          float64\n",
       "trip_distance             object\n",
       "RatecodeID               float64\n",
       "store_and_fwd_flag        object\n",
       "PULocationID               int64\n",
       "DOLocationID               int64\n",
       "payment_type             float64\n",
       "fare_amount              float64\n",
       "extra                    float64\n",
       "mta_tax                  float64\n",
       "tip_amount               float64\n",
       "tolls_amount             float64\n",
       "tripId                     int64\n",
       "dtype: object"
      ]
     },
     "execution_count": 7,
     "metadata": {},
     "output_type": "execute_result"
    }
   ],
   "source": [
    "df.dtypes"
   ]
  },
  {
   "cell_type": "code",
   "execution_count": 8,
   "id": "e7fb40fb",
   "metadata": {},
   "outputs": [],
   "source": [
    "df['trip_distance'] = df['trip_distance'].apply(lambda x: x.replace('km', ''))\n"
   ]
  },
  {
   "cell_type": "code",
   "execution_count": 9,
   "id": "3febb70e",
   "metadata": {},
   "outputs": [],
   "source": [
    "df['VendorID'] = df['VendorID'].astype('int')\n",
    "df['tpep_pickup_datetime'] = pd.to_datetime(df['tpep_pickup_datetime'])\n",
    "df['tpep_dropoff_datetime'] = pd.to_datetime(df['tpep_dropoff_datetime'])\n",
    "df['passenger_count'] = df['passenger_count'].astype('int')\n",
    "df['trip_distance'] = pd.to_numeric(df['trip_distance'], errors='coerce')  # Coerce errors in case of non-numeric values\n",
    "df['RatecodeID'] = df['RatecodeID'].astype('int')\n",
    "df['store_and_fwd_flag'] = df['store_and_fwd_flag'].astype('category')\n",
    "df['payment_type'] = df['payment_type'].astype('int')"
   ]
  },
  {
   "cell_type": "code",
   "execution_count": 10,
   "id": "2ad2d710",
   "metadata": {},
   "outputs": [
    {
     "data": {
      "text/plain": [
       "VendorID                          int64\n",
       "tpep_pickup_datetime     datetime64[ns]\n",
       "tpep_dropoff_datetime    datetime64[ns]\n",
       "passenger_count                   int64\n",
       "trip_distance                   float64\n",
       "RatecodeID                        int64\n",
       "store_and_fwd_flag             category\n",
       "PULocationID                      int64\n",
       "DOLocationID                      int64\n",
       "payment_type                      int64\n",
       "fare_amount                     float64\n",
       "extra                           float64\n",
       "mta_tax                         float64\n",
       "tip_amount                      float64\n",
       "tolls_amount                    float64\n",
       "tripId                            int64\n",
       "dtype: object"
      ]
     },
     "execution_count": 10,
     "metadata": {},
     "output_type": "execute_result"
    }
   ],
   "source": [
    "df.dtypes"
   ]
  },
  {
   "cell_type": "markdown",
   "id": "75d77104",
   "metadata": {},
   "source": [
    "# Detect anomalies"
   ]
  },
  {
   "cell_type": "code",
   "execution_count": 11,
   "id": "618dc455",
   "metadata": {},
   "outputs": [
    {
     "data": {
      "text/html": [
       "<div>\n",
       "<style scoped>\n",
       "    .dataframe tbody tr th:only-of-type {\n",
       "        vertical-align: middle;\n",
       "    }\n",
       "\n",
       "    .dataframe tbody tr th {\n",
       "        vertical-align: top;\n",
       "    }\n",
       "\n",
       "    .dataframe thead th {\n",
       "        text-align: right;\n",
       "    }\n",
       "</style>\n",
       "<table border=\"1\" class=\"dataframe\">\n",
       "  <thead>\n",
       "    <tr style=\"text-align: right;\">\n",
       "      <th></th>\n",
       "      <th>VendorID</th>\n",
       "      <th>passenger_count</th>\n",
       "      <th>trip_distance</th>\n",
       "      <th>RatecodeID</th>\n",
       "      <th>PULocationID</th>\n",
       "      <th>DOLocationID</th>\n",
       "      <th>payment_type</th>\n",
       "      <th>fare_amount</th>\n",
       "      <th>extra</th>\n",
       "      <th>mta_tax</th>\n",
       "      <th>tip_amount</th>\n",
       "      <th>tolls_amount</th>\n",
       "      <th>tripId</th>\n",
       "    </tr>\n",
       "  </thead>\n",
       "  <tbody>\n",
       "    <tr>\n",
       "      <th>count</th>\n",
       "      <td>1.271413e+06</td>\n",
       "      <td>1.271413e+06</td>\n",
       "      <td>1.271413e+06</td>\n",
       "      <td>1.271413e+06</td>\n",
       "      <td>1.271413e+06</td>\n",
       "      <td>1.271413e+06</td>\n",
       "      <td>1.271413e+06</td>\n",
       "      <td>1.271413e+06</td>\n",
       "      <td>1.271413e+06</td>\n",
       "      <td>1.271413e+06</td>\n",
       "      <td>1.271413e+06</td>\n",
       "      <td>1.271413e+06</td>\n",
       "      <td>1.271413e+06</td>\n",
       "    </tr>\n",
       "    <tr>\n",
       "      <th>mean</th>\n",
       "      <td>1.676925e+00</td>\n",
       "      <td>1.411508e+00</td>\n",
       "      <td>2.695507e+00</td>\n",
       "      <td>1.035081e+00</td>\n",
       "      <td>1.663164e+02</td>\n",
       "      <td>1.635025e+02</td>\n",
       "      <td>1.280521e+00</td>\n",
       "      <td>1.101425e+01</td>\n",
       "      <td>9.828323e-01</td>\n",
       "      <td>4.928536e-01</td>\n",
       "      <td>1.939242e+00</td>\n",
       "      <td>1.786589e-01</td>\n",
       "      <td>5.504145e+11</td>\n",
       "    </tr>\n",
       "    <tr>\n",
       "      <th>std</th>\n",
       "      <td>4.676513e-01</td>\n",
       "      <td>1.059833e+00</td>\n",
       "      <td>1.014488e+02</td>\n",
       "      <td>5.994840e-01</td>\n",
       "      <td>6.651732e+01</td>\n",
       "      <td>7.139416e+01</td>\n",
       "      <td>4.916921e-01</td>\n",
       "      <td>1.213470e+01</td>\n",
       "      <td>1.223763e+00</td>\n",
       "      <td>7.809472e-02</td>\n",
       "      <td>2.653374e+00</td>\n",
       "      <td>1.534606e+00</td>\n",
       "      <td>2.597369e+11</td>\n",
       "    </tr>\n",
       "    <tr>\n",
       "      <th>min</th>\n",
       "      <td>1.000000e+00</td>\n",
       "      <td>0.000000e+00</td>\n",
       "      <td>0.000000e+00</td>\n",
       "      <td>1.000000e+00</td>\n",
       "      <td>1.000000e+00</td>\n",
       "      <td>1.000000e+00</td>\n",
       "      <td>1.000000e+00</td>\n",
       "      <td>-4.900000e+02</td>\n",
       "      <td>-5.500000e+00</td>\n",
       "      <td>-5.000000e-01</td>\n",
       "      <td>-1.000000e+02</td>\n",
       "      <td>-3.112000e+01</td>\n",
       "      <td>1.000005e+11</td>\n",
       "    </tr>\n",
       "    <tr>\n",
       "      <th>25%</th>\n",
       "      <td>1.000000e+00</td>\n",
       "      <td>1.000000e+00</td>\n",
       "      <td>9.800000e-01</td>\n",
       "      <td>1.000000e+00</td>\n",
       "      <td>1.320000e+02</td>\n",
       "      <td>1.070000e+02</td>\n",
       "      <td>1.000000e+00</td>\n",
       "      <td>6.000000e+00</td>\n",
       "      <td>0.000000e+00</td>\n",
       "      <td>5.000000e-01</td>\n",
       "      <td>0.000000e+00</td>\n",
       "      <td>0.000000e+00</td>\n",
       "      <td>3.256626e+11</td>\n",
       "    </tr>\n",
       "    <tr>\n",
       "      <th>50%</th>\n",
       "      <td>2.000000e+00</td>\n",
       "      <td>1.000000e+00</td>\n",
       "      <td>1.600000e+00</td>\n",
       "      <td>1.000000e+00</td>\n",
       "      <td>1.620000e+02</td>\n",
       "      <td>1.620000e+02</td>\n",
       "      <td>1.000000e+00</td>\n",
       "      <td>8.000000e+00</td>\n",
       "      <td>5.000000e-01</td>\n",
       "      <td>5.000000e-01</td>\n",
       "      <td>1.850000e+00</td>\n",
       "      <td>0.000000e+00</td>\n",
       "      <td>5.504007e+11</td>\n",
       "    </tr>\n",
       "    <tr>\n",
       "      <th>75%</th>\n",
       "      <td>2.000000e+00</td>\n",
       "      <td>1.000000e+00</td>\n",
       "      <td>2.790000e+00</td>\n",
       "      <td>1.000000e+00</td>\n",
       "      <td>2.360000e+02</td>\n",
       "      <td>2.360000e+02</td>\n",
       "      <td>2.000000e+00</td>\n",
       "      <td>1.200000e+01</td>\n",
       "      <td>2.500000e+00</td>\n",
       "      <td>5.000000e-01</td>\n",
       "      <td>2.700000e+00</td>\n",
       "      <td>0.000000e+00</td>\n",
       "      <td>7.755865e+11</td>\n",
       "    </tr>\n",
       "    <tr>\n",
       "      <th>max</th>\n",
       "      <td>2.000000e+00</td>\n",
       "      <td>8.000000e+00</td>\n",
       "      <td>1.143282e+05</td>\n",
       "      <td>9.900000e+01</td>\n",
       "      <td>2.650000e+02</td>\n",
       "      <td>2.650000e+02</td>\n",
       "      <td>4.000000e+00</td>\n",
       "      <td>6.960500e+03</td>\n",
       "      <td>7.000000e+00</td>\n",
       "      <td>5.000000e-01</td>\n",
       "      <td>1.140440e+03</td>\n",
       "      <td>8.117500e+02</td>\n",
       "      <td>9.999999e+11</td>\n",
       "    </tr>\n",
       "  </tbody>\n",
       "</table>\n",
       "</div>"
      ],
      "text/plain": [
       "           VendorID  passenger_count  trip_distance    RatecodeID  \\\n",
       "count  1.271413e+06     1.271413e+06   1.271413e+06  1.271413e+06   \n",
       "mean   1.676925e+00     1.411508e+00   2.695507e+00  1.035081e+00   \n",
       "std    4.676513e-01     1.059833e+00   1.014488e+02  5.994840e-01   \n",
       "min    1.000000e+00     0.000000e+00   0.000000e+00  1.000000e+00   \n",
       "25%    1.000000e+00     1.000000e+00   9.800000e-01  1.000000e+00   \n",
       "50%    2.000000e+00     1.000000e+00   1.600000e+00  1.000000e+00   \n",
       "75%    2.000000e+00     1.000000e+00   2.790000e+00  1.000000e+00   \n",
       "max    2.000000e+00     8.000000e+00   1.143282e+05  9.900000e+01   \n",
       "\n",
       "       PULocationID  DOLocationID  payment_type   fare_amount         extra  \\\n",
       "count  1.271413e+06  1.271413e+06  1.271413e+06  1.271413e+06  1.271413e+06   \n",
       "mean   1.663164e+02  1.635025e+02  1.280521e+00  1.101425e+01  9.828323e-01   \n",
       "std    6.651732e+01  7.139416e+01  4.916921e-01  1.213470e+01  1.223763e+00   \n",
       "min    1.000000e+00  1.000000e+00  1.000000e+00 -4.900000e+02 -5.500000e+00   \n",
       "25%    1.320000e+02  1.070000e+02  1.000000e+00  6.000000e+00  0.000000e+00   \n",
       "50%    1.620000e+02  1.620000e+02  1.000000e+00  8.000000e+00  5.000000e-01   \n",
       "75%    2.360000e+02  2.360000e+02  2.000000e+00  1.200000e+01  2.500000e+00   \n",
       "max    2.650000e+02  2.650000e+02  4.000000e+00  6.960500e+03  7.000000e+00   \n",
       "\n",
       "            mta_tax    tip_amount  tolls_amount        tripId  \n",
       "count  1.271413e+06  1.271413e+06  1.271413e+06  1.271413e+06  \n",
       "mean   4.928536e-01  1.939242e+00  1.786589e-01  5.504145e+11  \n",
       "std    7.809472e-02  2.653374e+00  1.534606e+00  2.597369e+11  \n",
       "min   -5.000000e-01 -1.000000e+02 -3.112000e+01  1.000005e+11  \n",
       "25%    5.000000e-01  0.000000e+00  0.000000e+00  3.256626e+11  \n",
       "50%    5.000000e-01  1.850000e+00  0.000000e+00  5.504007e+11  \n",
       "75%    5.000000e-01  2.700000e+00  0.000000e+00  7.755865e+11  \n",
       "max    5.000000e-01  1.140440e+03  8.117500e+02  9.999999e+11  "
      ]
     },
     "execution_count": 11,
     "metadata": {},
     "output_type": "execute_result"
    }
   ],
   "source": [
    "df.describe()"
   ]
  },
  {
   "cell_type": "markdown",
   "id": "57ff0dcc",
   "metadata": {},
   "source": [
    "Drop negative values (not make sense)"
   ]
  },
  {
   "cell_type": "code",
   "execution_count": 12,
   "id": "9f5366bb",
   "metadata": {},
   "outputs": [],
   "source": [
    "df = df.drop(df[df['fare_amount']<0].index)\n",
    "df = df.drop(df[df['extra']<0].index)\n",
    "df = df.drop(df[df['mta_tax']<0].index)\n",
    "df = df.drop(df[df['tip_amount']<0].index)\n",
    "df = df.drop(df[df['tolls_amount']<0].index)"
   ]
  },
  {
   "cell_type": "markdown",
   "id": "dd873e94",
   "metadata": {},
   "source": [
    "Dealing with datetime"
   ]
  },
  {
   "cell_type": "code",
   "execution_count": 13,
   "id": "02dc4ec7",
   "metadata": {},
   "outputs": [],
   "source": [
    "df = df.drop(df[df['tpep_pickup_datetime'].dt.year != 2021].index)\n",
    "df = df.drop(df[df['tpep_dropoff_datetime'].dt.year != 2021].index)\n",
    "df = df.drop(df[df['tpep_pickup_datetime'].dt.month != 1].index)\n",
    "df = df.drop(df[df['tpep_dropoff_datetime'].dt.month != 1].index)\n",
    "df = df.drop(df[df['tpep_pickup_datetime'] > df['tpep_dropoff_datetime']].index)"
   ]
  },
  {
   "cell_type": "markdown",
   "id": "87795858",
   "metadata": {},
   "source": [
    "passenger_count"
   ]
  },
  {
   "cell_type": "code",
   "execution_count": 14,
   "id": "19e87b86",
   "metadata": {},
   "outputs": [
    {
     "data": {
      "text/plain": [
       "<AxesSubplot:xlabel='passenger_count'>"
      ]
     },
     "execution_count": 14,
     "metadata": {},
     "output_type": "execute_result"
    },
    {
     "data": {
      "image/png": "[encoded data removed]",
      "text/plain": [
       "<Figure size 432x288 with 1 Axes>"
      ]
     },
     "metadata": {},
     "output_type": "display_data"
    }
   ],
   "source": [
    "sns.boxplot(x=df['passenger_count'])"
   ]
  },
  {
   "cell_type": "code",
   "execution_count": 15,
   "id": "707d61e2",
   "metadata": {},
   "outputs": [
    {
     "data": {
      "text/html": [
       "<div>\n",
       "<style scoped>\n",
       "    .dataframe tbody tr th:only-of-type {\n",
       "        vertical-align: middle;\n",
       "    }\n",
       "\n",
       "    .dataframe tbody tr th {\n",
       "        vertical-align: top;\n",
       "    }\n",
       "\n",
       "    .dataframe thead th {\n",
       "        text-align: right;\n",
       "    }\n",
       "</style>\n",
       "<table border=\"1\" class=\"dataframe\">\n",
       "  <thead>\n",
       "    <tr style=\"text-align: right;\">\n",
       "      <th></th>\n",
       "      <th>VendorID</th>\n",
       "      <th>tpep_pickup_datetime</th>\n",
       "      <th>tpep_dropoff_datetime</th>\n",
       "      <th>passenger_count</th>\n",
       "      <th>trip_distance</th>\n",
       "      <th>RatecodeID</th>\n",
       "      <th>store_and_fwd_flag</th>\n",
       "      <th>PULocationID</th>\n",
       "      <th>DOLocationID</th>\n",
       "      <th>payment_type</th>\n",
       "      <th>fare_amount</th>\n",
       "      <th>extra</th>\n",
       "      <th>mta_tax</th>\n",
       "      <th>tip_amount</th>\n",
       "      <th>tolls_amount</th>\n",
       "      <th>tripId</th>\n",
       "    </tr>\n",
       "  </thead>\n",
       "  <tbody>\n",
       "    <tr>\n",
       "      <th>3</th>\n",
       "      <td>1</td>\n",
       "      <td>2021-01-01 00:15:48</td>\n",
       "      <td>2021-01-01 00:31:01</td>\n",
       "      <td>0</td>\n",
       "      <td>10.6</td>\n",
       "      <td>1</td>\n",
       "      <td>N</td>\n",
       "      <td>138</td>\n",
       "      <td>132</td>\n",
       "      <td>1</td>\n",
       "      <td>29.0</td>\n",
       "      <td>0.5</td>\n",
       "      <td>0.5</td>\n",
       "      <td>6.05</td>\n",
       "      <td>0.0</td>\n",
       "      <td>355132875433</td>\n",
       "    </tr>\n",
       "    <tr>\n",
       "      <th>22</th>\n",
       "      <td>1</td>\n",
       "      <td>2021-01-01 00:16:27</td>\n",
       "      <td>2021-01-01 00:25:36</td>\n",
       "      <td>0</td>\n",
       "      <td>2.2</td>\n",
       "      <td>1</td>\n",
       "      <td>N</td>\n",
       "      <td>249</td>\n",
       "      <td>137</td>\n",
       "      <td>3</td>\n",
       "      <td>9.0</td>\n",
       "      <td>3.0</td>\n",
       "      <td>0.5</td>\n",
       "      <td>0.00</td>\n",
       "      <td>0.0</td>\n",
       "      <td>808421392489</td>\n",
       "    </tr>\n",
       "    <tr>\n",
       "      <th>23</th>\n",
       "      <td>1</td>\n",
       "      <td>2021-01-01 00:37:59</td>\n",
       "      <td>2021-01-01 01:01:37</td>\n",
       "      <td>0</td>\n",
       "      <td>3.6</td>\n",
       "      <td>1</td>\n",
       "      <td>N</td>\n",
       "      <td>107</td>\n",
       "      <td>163</td>\n",
       "      <td>1</td>\n",
       "      <td>17.0</td>\n",
       "      <td>3.0</td>\n",
       "      <td>0.5</td>\n",
       "      <td>10.00</td>\n",
       "      <td>0.0</td>\n",
       "      <td>801139501570</td>\n",
       "    </tr>\n",
       "    <tr>\n",
       "      <th>107</th>\n",
       "      <td>1</td>\n",
       "      <td>2021-01-01 00:27:44</td>\n",
       "      <td>2021-01-01 00:32:04</td>\n",
       "      <td>0</td>\n",
       "      <td>1.2</td>\n",
       "      <td>1</td>\n",
       "      <td>N</td>\n",
       "      <td>137</td>\n",
       "      <td>229</td>\n",
       "      <td>1</td>\n",
       "      <td>5.5</td>\n",
       "      <td>3.0</td>\n",
       "      <td>0.5</td>\n",
       "      <td>1.86</td>\n",
       "      <td>0.0</td>\n",
       "      <td>811631440335</td>\n",
       "    </tr>\n",
       "    <tr>\n",
       "      <th>127</th>\n",
       "      <td>1</td>\n",
       "      <td>2021-01-01 00:45:19</td>\n",
       "      <td>2021-01-01 00:46:51</td>\n",
       "      <td>0</td>\n",
       "      <td>0.5</td>\n",
       "      <td>1</td>\n",
       "      <td>N</td>\n",
       "      <td>229</td>\n",
       "      <td>140</td>\n",
       "      <td>2</td>\n",
       "      <td>4.0</td>\n",
       "      <td>3.0</td>\n",
       "      <td>0.5</td>\n",
       "      <td>0.00</td>\n",
       "      <td>0.0</td>\n",
       "      <td>975818162677</td>\n",
       "    </tr>\n",
       "    <tr>\n",
       "      <th>...</th>\n",
       "      <td>...</td>\n",
       "      <td>...</td>\n",
       "      <td>...</td>\n",
       "      <td>...</td>\n",
       "      <td>...</td>\n",
       "      <td>...</td>\n",
       "      <td>...</td>\n",
       "      <td>...</td>\n",
       "      <td>...</td>\n",
       "      <td>...</td>\n",
       "      <td>...</td>\n",
       "      <td>...</td>\n",
       "      <td>...</td>\n",
       "      <td>...</td>\n",
       "      <td>...</td>\n",
       "      <td>...</td>\n",
       "    </tr>\n",
       "    <tr>\n",
       "      <th>1270916</th>\n",
       "      <td>1</td>\n",
       "      <td>2021-01-31 22:19:43</td>\n",
       "      <td>2021-01-31 22:50:44</td>\n",
       "      <td>0</td>\n",
       "      <td>11.6</td>\n",
       "      <td>1</td>\n",
       "      <td>N</td>\n",
       "      <td>132</td>\n",
       "      <td>62</td>\n",
       "      <td>2</td>\n",
       "      <td>35.5</td>\n",
       "      <td>0.5</td>\n",
       "      <td>0.5</td>\n",
       "      <td>0.00</td>\n",
       "      <td>0.0</td>\n",
       "      <td>111290176555</td>\n",
       "    </tr>\n",
       "    <tr>\n",
       "      <th>1270997</th>\n",
       "      <td>1</td>\n",
       "      <td>2021-01-31 22:14:08</td>\n",
       "      <td>2021-01-31 22:18:38</td>\n",
       "      <td>0</td>\n",
       "      <td>0.7</td>\n",
       "      <td>1</td>\n",
       "      <td>N</td>\n",
       "      <td>230</td>\n",
       "      <td>246</td>\n",
       "      <td>1</td>\n",
       "      <td>5.0</td>\n",
       "      <td>3.0</td>\n",
       "      <td>0.5</td>\n",
       "      <td>2.00</td>\n",
       "      <td>0.0</td>\n",
       "      <td>414199413298</td>\n",
       "    </tr>\n",
       "    <tr>\n",
       "      <th>1271221</th>\n",
       "      <td>1</td>\n",
       "      <td>2021-01-31 23:14:13</td>\n",
       "      <td>2021-01-31 23:24:20</td>\n",
       "      <td>0</td>\n",
       "      <td>2.2</td>\n",
       "      <td>1</td>\n",
       "      <td>N</td>\n",
       "      <td>48</td>\n",
       "      <td>239</td>\n",
       "      <td>1</td>\n",
       "      <td>9.5</td>\n",
       "      <td>3.0</td>\n",
       "      <td>0.5</td>\n",
       "      <td>1.50</td>\n",
       "      <td>0.0</td>\n",
       "      <td>920210796864</td>\n",
       "    </tr>\n",
       "    <tr>\n",
       "      <th>1271223</th>\n",
       "      <td>1</td>\n",
       "      <td>2021-01-31 23:25:14</td>\n",
       "      <td>2021-01-31 23:48:06</td>\n",
       "      <td>0</td>\n",
       "      <td>6.8</td>\n",
       "      <td>1</td>\n",
       "      <td>N</td>\n",
       "      <td>148</td>\n",
       "      <td>151</td>\n",
       "      <td>1</td>\n",
       "      <td>22.5</td>\n",
       "      <td>3.0</td>\n",
       "      <td>0.5</td>\n",
       "      <td>6.55</td>\n",
       "      <td>0.0</td>\n",
       "      <td>273828239100</td>\n",
       "    </tr>\n",
       "    <tr>\n",
       "      <th>1271224</th>\n",
       "      <td>1</td>\n",
       "      <td>2021-01-31 23:02:30</td>\n",
       "      <td>2021-01-31 23:08:24</td>\n",
       "      <td>0</td>\n",
       "      <td>1.7</td>\n",
       "      <td>1</td>\n",
       "      <td>N</td>\n",
       "      <td>48</td>\n",
       "      <td>90</td>\n",
       "      <td>1</td>\n",
       "      <td>7.0</td>\n",
       "      <td>3.0</td>\n",
       "      <td>0.5</td>\n",
       "      <td>2.15</td>\n",
       "      <td>0.0</td>\n",
       "      <td>560611403935</td>\n",
       "    </tr>\n",
       "  </tbody>\n",
       "</table>\n",
       "<p>26724 rows × 16 columns</p>\n",
       "</div>"
      ],
      "text/plain": [
       "         VendorID tpep_pickup_datetime tpep_dropoff_datetime  passenger_count  \\\n",
       "3               1  2021-01-01 00:15:48   2021-01-01 00:31:01                0   \n",
       "22              1  2021-01-01 00:16:27   2021-01-01 00:25:36                0   \n",
       "23              1  2021-01-01 00:37:59   2021-01-01 01:01:37                0   \n",
       "107             1  2021-01-01 00:27:44   2021-01-01 00:32:04                0   \n",
       "127             1  2021-01-01 00:45:19   2021-01-01 00:46:51                0   \n",
       "...           ...                  ...                   ...              ...   \n",
       "1270916         1  2021-01-31 22:19:43   2021-01-31 22:50:44                0   \n",
       "1270997         1  2021-01-31 22:14:08   2021-01-31 22:18:38                0   \n",
       "1271221         1  2021-01-31 23:14:13   2021-01-31 23:24:20                0   \n",
       "1271223         1  2021-01-31 23:25:14   2021-01-31 23:48:06                0   \n",
       "1271224         1  2021-01-31 23:02:30   2021-01-31 23:08:24                0   \n",
       "\n",
       "         trip_distance  RatecodeID store_and_fwd_flag  PULocationID  \\\n",
       "3                 10.6           1                  N           138   \n",
       "22                 2.2           1                  N           249   \n",
       "23                 3.6           1                  N           107   \n",
       "107                1.2           1                  N           137   \n",
       "127                0.5           1                  N           229   \n",
       "...                ...         ...                ...           ...   \n",
       "1270916           11.6           1                  N           132   \n",
       "1270997            0.7           1                  N           230   \n",
       "1271221            2.2           1                  N            48   \n",
       "1271223            6.8           1                  N           148   \n",
       "1271224            1.7           1                  N            48   \n",
       "\n",
       "         DOLocationID  payment_type  fare_amount  extra  mta_tax  tip_amount  \\\n",
       "3                 132             1         29.0    0.5      0.5        6.05   \n",
       "22                137             3          9.0    3.0      0.5        0.00   \n",
       "23                163             1         17.0    3.0      0.5       10.00   \n",
       "107               229             1          5.5    3.0      0.5        1.86   \n",
       "127               140             2          4.0    3.0      0.5        0.00   \n",
       "...               ...           ...          ...    ...      ...         ...   \n",
       "1270916            62             2         35.5    0.5      0.5        0.00   \n",
       "1270997           246             1          5.0    3.0      0.5        2.00   \n",
       "1271221           239             1          9.5    3.0      0.5        1.50   \n",
       "1271223           151             1         22.5    3.0      0.5        6.55   \n",
       "1271224            90             1          7.0    3.0      0.5        2.15   \n",
       "\n",
       "         tolls_amount        tripId  \n",
       "3                 0.0  355132875433  \n",
       "22                0.0  808421392489  \n",
       "23                0.0  801139501570  \n",
       "107               0.0  811631440335  \n",
       "127               0.0  975818162677  \n",
       "...               ...           ...  \n",
       "1270916           0.0  111290176555  \n",
       "1270997           0.0  414199413298  \n",
       "1271221           0.0  920210796864  \n",
       "1271223           0.0  273828239100  \n",
       "1271224           0.0  560611403935  \n",
       "\n",
       "[26724 rows x 16 columns]"
      ]
     },
     "execution_count": 15,
     "metadata": {},
     "output_type": "execute_result"
    }
   ],
   "source": [
    "df[df['passenger_count']==0]"
   ]
  },
  {
   "cell_type": "code",
   "execution_count": 16,
   "id": "b8e3e931",
   "metadata": {},
   "outputs": [],
   "source": [
    "df = df.drop(df[df['passenger_count'] == 0].index) #2% of whole data"
   ]
  },
  {
   "cell_type": "markdown",
   "id": "03969c56",
   "metadata": {},
   "source": [
    "trip_distance"
   ]
  },
  {
   "cell_type": "code",
   "execution_count": 17,
   "id": "52053334",
   "metadata": {},
   "outputs": [
    {
     "data": {
      "text/plain": [
       "<AxesSubplot:xlabel='trip_distance'>"
      ]
     },
     "execution_count": 17,
     "metadata": {},
     "output_type": "execute_result"
    },
    {
     "data": {
      "image/png": "[encoded data removed]",
      "text/plain": [
       "<Figure size 432x288 with 1 Axes>"
      ]
     },
     "metadata": {},
     "output_type": "display_data"
    }
   ],
   "source": [
    "sns.boxplot(x=df['trip_distance'])"
   ]
  },
  {
   "cell_type": "code",
   "execution_count": 18,
   "id": "245cf8a0",
   "metadata": {},
   "outputs": [],
   "source": [
    "df = df.drop(df[df['trip_distance']>20000].index)\n"
   ]
  },
  {
   "cell_type": "code",
   "execution_count": 19,
   "id": "be532d19",
   "metadata": {},
   "outputs": [
    {
     "data": {
      "text/plain": [
       "<AxesSubplot:xlabel='trip_distance'>"
      ]
     },
     "execution_count": 19,
     "metadata": {},
     "output_type": "execute_result"
    },
    {
     "data": {
      "image/png": "[encoded data removed]",
      "text/plain": [
       "<Figure size 432x288 with 1 Axes>"
      ]
     },
     "metadata": {},
     "output_type": "display_data"
    }
   ],
   "source": [
    "sns.boxplot(x=df['trip_distance'])"
   ]
  },
  {
   "cell_type": "code",
   "execution_count": 20,
   "id": "87187fc5",
   "metadata": {},
   "outputs": [],
   "source": [
    "df = df.drop(df[df['trip_distance']>100].index) #0.0000..% of whole data\n"
   ]
  },
  {
   "cell_type": "code",
   "execution_count": 21,
   "id": "7e5a44aa",
   "metadata": {},
   "outputs": [
    {
     "data": {
      "text/plain": [
       "<AxesSubplot:xlabel='mta_tax'>"
      ]
     },
     "execution_count": 21,
     "metadata": {},
     "output_type": "execute_result"
    },
    {
     "data": {
      "image/png": "[encoded data removed]",
      "text/plain": [
       "<Figure size 432x288 with 1 Axes>"
      ]
     },
     "metadata": {},
     "output_type": "display_data"
    }
   ],
   "source": [
    "sns.boxplot(x=df['mta_tax'])"
   ]
  },
  {
   "cell_type": "code",
   "execution_count": 22,
   "id": "54b849d7",
   "metadata": {},
   "outputs": [
    {
     "data": {
      "text/plain": [
       "<AxesSubplot:xlabel='tip_amount'>"
      ]
     },
     "execution_count": 22,
     "metadata": {},
     "output_type": "execute_result"
    },
    {
     "data": {
      "image/png": "[encoded data removed]",
      "text/plain": [
       "<Figure size 432x288 with 1 Axes>"
      ]
     },
     "metadata": {},
     "output_type": "display_data"
    }
   ],
   "source": [
    "sns.boxplot(x=df['tip_amount'])"
   ]
  },
  {
   "cell_type": "code",
   "execution_count": 23,
   "id": "eea8a293",
   "metadata": {},
   "outputs": [],
   "source": [
    "df = df.drop(df[df['tip_amount']>200].index) #0.0000..% of whole data"
   ]
  },
  {
   "cell_type": "code",
   "execution_count": 24,
   "id": "56e098de",
   "metadata": {},
   "outputs": [
    {
     "data": {
      "text/plain": [
       "<AxesSubplot:xlabel='tolls_amount'>"
      ]
     },
     "execution_count": 24,
     "metadata": {},
     "output_type": "execute_result"
    },
    {
     "data": {
      "image/png": "[encoded data removed]",
      "text/plain": [
       "<Figure size 432x288 with 1 Axes>"
      ]
     },
     "metadata": {},
     "output_type": "display_data"
    }
   ],
   "source": [
    "sns.boxplot(x=df['tolls_amount'])"
   ]
  },
  {
   "cell_type": "code",
   "execution_count": 25,
   "id": "326397a5",
   "metadata": {},
   "outputs": [],
   "source": [
    "df = df.drop(df[df['tolls_amount']>100].index)"
   ]
  },
  {
   "cell_type": "code",
   "execution_count": 26,
   "id": "f088a347",
   "metadata": {},
   "outputs": [
    {
     "data": {
      "text/plain": [
       "<AxesSubplot:xlabel='tolls_amount'>"
      ]
     },
     "execution_count": 26,
     "metadata": {},
     "output_type": "execute_result"
    },
    {
     "data": {
      "image/png": "[encoded data removed]",
      "text/plain": [
       "<Figure size 432x288 with 1 Axes>"
      ]
     },
     "metadata": {},
     "output_type": "display_data"
    }
   ],
   "source": [
    "sns.boxplot(x=df['tolls_amount'])"
   ]
  },
  {
   "cell_type": "code",
   "execution_count": 27,
   "id": "2e1f02cf",
   "metadata": {},
   "outputs": [
    {
     "data": {
      "text/plain": [
       "<AxesSubplot:xlabel='fare_amount'>"
      ]
     },
     "execution_count": 27,
     "metadata": {},
     "output_type": "execute_result"
    },
    {
     "data": {
      "image/png": "[encoded data removed]",
      "text/plain": [
       "<Figure size 432x288 with 1 Axes>"
      ]
     },
     "metadata": {},
     "output_type": "display_data"
    }
   ],
   "source": [
    "sns.boxplot(x=df['fare_amount'])"
   ]
  },
  {
   "cell_type": "code",
   "execution_count": 28,
   "id": "3627643c",
   "metadata": {},
   "outputs": [],
   "source": [
    "\n",
    "df = df.drop(df[df['fare_amount']>2000].index)"
   ]
  },
  {
   "cell_type": "code",
   "execution_count": 29,
   "id": "e1c8603c",
   "metadata": {},
   "outputs": [
    {
     "data": {
      "text/plain": [
       "<AxesSubplot:xlabel='fare_amount'>"
      ]
     },
     "execution_count": 29,
     "metadata": {},
     "output_type": "execute_result"
    },
    {
     "data": {
      "image/png": "[encoded data removed]",
      "text/plain": [
       "<Figure size 432x288 with 1 Axes>"
      ]
     },
     "metadata": {},
     "output_type": "display_data"
    }
   ],
   "source": [
    "sns.boxplot(x=df['fare_amount'])"
   ]
  },
  {
   "cell_type": "code",
   "execution_count": 30,
   "id": "893cc86b",
   "metadata": {},
   "outputs": [],
   "source": [
    "df = df.drop(df[df['fare_amount']>500].index)"
   ]
  },
  {
   "cell_type": "markdown",
   "id": "81bafaa9",
   "metadata": {},
   "source": [
    "# Join json"
   ]
  },
  {
   "cell_type": "code",
   "execution_count": 31,
   "id": "24127c11",
   "metadata": {},
   "outputs": [],
   "source": [
    "data = json.load(open(\"surcharge_data.json\", \"r\"))\n",
    "json = pd.DataFrame.from_dict(data, orient=\"index\")\n",
    "# df = pd.read_json(\"surcharge_data.json\")"
   ]
  },
  {
   "cell_type": "code",
   "execution_count": 32,
   "id": "b333f2c9",
   "metadata": {},
   "outputs": [
    {
     "data": {
      "text/html": [
       "<div>\n",
       "<style scoped>\n",
       "    .dataframe tbody tr th:only-of-type {\n",
       "        vertical-align: middle;\n",
       "    }\n",
       "\n",
       "    .dataframe tbody tr th {\n",
       "        vertical-align: top;\n",
       "    }\n",
       "\n",
       "    .dataframe thead th {\n",
       "        text-align: right;\n",
       "    }\n",
       "</style>\n",
       "<table border=\"1\" class=\"dataframe\">\n",
       "  <thead>\n",
       "    <tr style=\"text-align: right;\">\n",
       "      <th></th>\n",
       "      <th>tripId</th>\n",
       "      <th>improvement_surcharge</th>\n",
       "      <th>congestion_surcharge</th>\n",
       "    </tr>\n",
       "  </thead>\n",
       "  <tbody>\n",
       "    <tr>\n",
       "      <th>0</th>\n",
       "      <td>559893529209</td>\n",
       "      <td>0.3</td>\n",
       "      <td>2.5</td>\n",
       "    </tr>\n",
       "    <tr>\n",
       "      <th>1</th>\n",
       "      <td>993405808080</td>\n",
       "      <td>0.3</td>\n",
       "      <td>0.0</td>\n",
       "    </tr>\n",
       "    <tr>\n",
       "      <th>2</th>\n",
       "      <td>267031741304</td>\n",
       "      <td>0.3</td>\n",
       "      <td>0.0</td>\n",
       "    </tr>\n",
       "    <tr>\n",
       "      <th>3</th>\n",
       "      <td>355132875433</td>\n",
       "      <td>0.3</td>\n",
       "      <td>0.0</td>\n",
       "    </tr>\n",
       "    <tr>\n",
       "      <th>4</th>\n",
       "      <td>603494714228</td>\n",
       "      <td>0.3</td>\n",
       "      <td>2.5</td>\n",
       "    </tr>\n",
       "    <tr>\n",
       "      <th>...</th>\n",
       "      <td>...</td>\n",
       "      <td>...</td>\n",
       "      <td>...</td>\n",
       "    </tr>\n",
       "    <tr>\n",
       "      <th>1369760</th>\n",
       "      <td>204125243754</td>\n",
       "      <td>0.3</td>\n",
       "      <td>0.0</td>\n",
       "    </tr>\n",
       "    <tr>\n",
       "      <th>1369761</th>\n",
       "      <td>511527970247</td>\n",
       "      <td>0.3</td>\n",
       "      <td>0.0</td>\n",
       "    </tr>\n",
       "    <tr>\n",
       "      <th>1369762</th>\n",
       "      <td>795487851532</td>\n",
       "      <td>0.3</td>\n",
       "      <td>0.0</td>\n",
       "    </tr>\n",
       "    <tr>\n",
       "      <th>1369763</th>\n",
       "      <td>550977006601</td>\n",
       "      <td>0.3</td>\n",
       "      <td>0.0</td>\n",
       "    </tr>\n",
       "    <tr>\n",
       "      <th>1369764</th>\n",
       "      <td>244977907136</td>\n",
       "      <td>0.3</td>\n",
       "      <td>0.0</td>\n",
       "    </tr>\n",
       "  </tbody>\n",
       "</table>\n",
       "<p>1369765 rows × 3 columns</p>\n",
       "</div>"
      ],
      "text/plain": [
       "               tripId  improvement_surcharge  congestion_surcharge\n",
       "0        559893529209                    0.3                   2.5\n",
       "1        993405808080                    0.3                   0.0\n",
       "2        267031741304                    0.3                   0.0\n",
       "3        355132875433                    0.3                   0.0\n",
       "4        603494714228                    0.3                   2.5\n",
       "...               ...                    ...                   ...\n",
       "1369760  204125243754                    0.3                   0.0\n",
       "1369761  511527970247                    0.3                   0.0\n",
       "1369762  795487851532                    0.3                   0.0\n",
       "1369763  550977006601                    0.3                   0.0\n",
       "1369764  244977907136                    0.3                   0.0\n",
       "\n",
       "[1369765 rows x 3 columns]"
      ]
     },
     "execution_count": 32,
     "metadata": {},
     "output_type": "execute_result"
    }
   ],
   "source": [
    "json = json.rename_axis('tripId').reset_index()\n",
    "json"
   ]
  },
  {
   "cell_type": "code",
   "execution_count": 33,
   "id": "3fd44a1b",
   "metadata": {},
   "outputs": [
    {
     "data": {
      "text/plain": [
       "tripId                    object\n",
       "improvement_surcharge    float64\n",
       "congestion_surcharge     float64\n",
       "dtype: object"
      ]
     },
     "execution_count": 33,
     "metadata": {},
     "output_type": "execute_result"
    }
   ],
   "source": [
    "json.dtypes"
   ]
  },
  {
   "cell_type": "code",
   "execution_count": 34,
   "id": "ccbcaf6b",
   "metadata": {},
   "outputs": [],
   "source": [
    "json['tripId'] = json['tripId'].astype('int')\n"
   ]
  },
  {
   "cell_type": "code",
   "execution_count": 35,
   "id": "58ac1f2c",
   "metadata": {},
   "outputs": [],
   "source": [
    "joined = df.merge(json, how='left', on='tripId')"
   ]
  },
  {
   "cell_type": "code",
   "execution_count": 36,
   "id": "518848c3",
   "metadata": {},
   "outputs": [
    {
     "data": {
      "text/html": [
       "<div>\n",
       "<style scoped>\n",
       "    .dataframe tbody tr th:only-of-type {\n",
       "        vertical-align: middle;\n",
       "    }\n",
       "\n",
       "    .dataframe tbody tr th {\n",
       "        vertical-align: top;\n",
       "    }\n",
       "\n",
       "    .dataframe thead th {\n",
       "        text-align: right;\n",
       "    }\n",
       "</style>\n",
       "<table border=\"1\" class=\"dataframe\">\n",
       "  <thead>\n",
       "    <tr style=\"text-align: right;\">\n",
       "      <th></th>\n",
       "      <th>VendorID</th>\n",
       "      <th>tpep_pickup_datetime</th>\n",
       "      <th>tpep_dropoff_datetime</th>\n",
       "      <th>passenger_count</th>\n",
       "      <th>trip_distance</th>\n",
       "      <th>RatecodeID</th>\n",
       "      <th>store_and_fwd_flag</th>\n",
       "      <th>PULocationID</th>\n",
       "      <th>DOLocationID</th>\n",
       "      <th>payment_type</th>\n",
       "      <th>fare_amount</th>\n",
       "      <th>extra</th>\n",
       "      <th>mta_tax</th>\n",
       "      <th>tip_amount</th>\n",
       "      <th>tolls_amount</th>\n",
       "      <th>tripId</th>\n",
       "      <th>improvement_surcharge</th>\n",
       "      <th>congestion_surcharge</th>\n",
       "    </tr>\n",
       "  </thead>\n",
       "  <tbody>\n",
       "    <tr>\n",
       "      <th>0</th>\n",
       "      <td>1</td>\n",
       "      <td>2021-01-01 00:30:10</td>\n",
       "      <td>2021-01-01 00:36:12</td>\n",
       "      <td>1</td>\n",
       "      <td>2.10</td>\n",
       "      <td>1</td>\n",
       "      <td>N</td>\n",
       "      <td>142</td>\n",
       "      <td>43</td>\n",
       "      <td>2</td>\n",
       "      <td>8.0</td>\n",
       "      <td>3.0</td>\n",
       "      <td>0.5</td>\n",
       "      <td>0.00</td>\n",
       "      <td>0.00</td>\n",
       "      <td>559893529209</td>\n",
       "      <td>0.3</td>\n",
       "      <td>2.5</td>\n",
       "    </tr>\n",
       "    <tr>\n",
       "      <th>1</th>\n",
       "      <td>1</td>\n",
       "      <td>2021-01-01 00:51:20</td>\n",
       "      <td>2021-01-01 00:52:19</td>\n",
       "      <td>1</td>\n",
       "      <td>0.20</td>\n",
       "      <td>1</td>\n",
       "      <td>N</td>\n",
       "      <td>238</td>\n",
       "      <td>151</td>\n",
       "      <td>2</td>\n",
       "      <td>3.0</td>\n",
       "      <td>0.5</td>\n",
       "      <td>0.5</td>\n",
       "      <td>0.00</td>\n",
       "      <td>0.00</td>\n",
       "      <td>993405808080</td>\n",
       "      <td>0.3</td>\n",
       "      <td>0.0</td>\n",
       "    </tr>\n",
       "    <tr>\n",
       "      <th>2</th>\n",
       "      <td>1</td>\n",
       "      <td>2021-01-01 00:43:30</td>\n",
       "      <td>2021-01-01 01:11:06</td>\n",
       "      <td>1</td>\n",
       "      <td>14.70</td>\n",
       "      <td>1</td>\n",
       "      <td>N</td>\n",
       "      <td>132</td>\n",
       "      <td>165</td>\n",
       "      <td>1</td>\n",
       "      <td>42.0</td>\n",
       "      <td>0.5</td>\n",
       "      <td>0.5</td>\n",
       "      <td>8.65</td>\n",
       "      <td>0.00</td>\n",
       "      <td>267031741304</td>\n",
       "      <td>0.3</td>\n",
       "      <td>0.0</td>\n",
       "    </tr>\n",
       "    <tr>\n",
       "      <th>3</th>\n",
       "      <td>2</td>\n",
       "      <td>2021-01-01 00:31:49</td>\n",
       "      <td>2021-01-01 00:48:21</td>\n",
       "      <td>1</td>\n",
       "      <td>4.94</td>\n",
       "      <td>1</td>\n",
       "      <td>N</td>\n",
       "      <td>68</td>\n",
       "      <td>33</td>\n",
       "      <td>1</td>\n",
       "      <td>16.5</td>\n",
       "      <td>0.5</td>\n",
       "      <td>0.5</td>\n",
       "      <td>4.06</td>\n",
       "      <td>0.00</td>\n",
       "      <td>603494714228</td>\n",
       "      <td>0.3</td>\n",
       "      <td>2.5</td>\n",
       "    </tr>\n",
       "    <tr>\n",
       "      <th>4</th>\n",
       "      <td>1</td>\n",
       "      <td>2021-01-01 00:16:29</td>\n",
       "      <td>2021-01-01 00:24:30</td>\n",
       "      <td>1</td>\n",
       "      <td>1.60</td>\n",
       "      <td>1</td>\n",
       "      <td>N</td>\n",
       "      <td>224</td>\n",
       "      <td>68</td>\n",
       "      <td>1</td>\n",
       "      <td>8.0</td>\n",
       "      <td>3.0</td>\n",
       "      <td>0.5</td>\n",
       "      <td>2.35</td>\n",
       "      <td>0.00</td>\n",
       "      <td>796431455521</td>\n",
       "      <td>0.3</td>\n",
       "      <td>2.5</td>\n",
       "    </tr>\n",
       "    <tr>\n",
       "      <th>...</th>\n",
       "      <td>...</td>\n",
       "      <td>...</td>\n",
       "      <td>...</td>\n",
       "      <td>...</td>\n",
       "      <td>...</td>\n",
       "      <td>...</td>\n",
       "      <td>...</td>\n",
       "      <td>...</td>\n",
       "      <td>...</td>\n",
       "      <td>...</td>\n",
       "      <td>...</td>\n",
       "      <td>...</td>\n",
       "      <td>...</td>\n",
       "      <td>...</td>\n",
       "      <td>...</td>\n",
       "      <td>...</td>\n",
       "      <td>...</td>\n",
       "      <td>...</td>\n",
       "    </tr>\n",
       "    <tr>\n",
       "      <th>1237864</th>\n",
       "      <td>2</td>\n",
       "      <td>2021-01-31 23:39:26</td>\n",
       "      <td>2021-01-31 23:54:36</td>\n",
       "      <td>3</td>\n",
       "      <td>6.85</td>\n",
       "      <td>1</td>\n",
       "      <td>N</td>\n",
       "      <td>137</td>\n",
       "      <td>42</td>\n",
       "      <td>2</td>\n",
       "      <td>20.5</td>\n",
       "      <td>0.5</td>\n",
       "      <td>0.5</td>\n",
       "      <td>0.00</td>\n",
       "      <td>0.00</td>\n",
       "      <td>879791232973</td>\n",
       "      <td>0.3</td>\n",
       "      <td>2.5</td>\n",
       "    </tr>\n",
       "    <tr>\n",
       "      <th>1237865</th>\n",
       "      <td>2</td>\n",
       "      <td>2021-01-31 23:07:54</td>\n",
       "      <td>2021-01-31 23:19:42</td>\n",
       "      <td>1</td>\n",
       "      <td>3.81</td>\n",
       "      <td>1</td>\n",
       "      <td>N</td>\n",
       "      <td>113</td>\n",
       "      <td>141</td>\n",
       "      <td>2</td>\n",
       "      <td>12.5</td>\n",
       "      <td>0.5</td>\n",
       "      <td>0.5</td>\n",
       "      <td>0.00</td>\n",
       "      <td>0.00</td>\n",
       "      <td>823977871617</td>\n",
       "      <td>0.3</td>\n",
       "      <td>2.5</td>\n",
       "    </tr>\n",
       "    <tr>\n",
       "      <th>1237866</th>\n",
       "      <td>2</td>\n",
       "      <td>2021-01-31 23:30:45</td>\n",
       "      <td>2021-01-31 23:35:13</td>\n",
       "      <td>1</td>\n",
       "      <td>1.32</td>\n",
       "      <td>1</td>\n",
       "      <td>N</td>\n",
       "      <td>233</td>\n",
       "      <td>237</td>\n",
       "      <td>2</td>\n",
       "      <td>6.0</td>\n",
       "      <td>0.5</td>\n",
       "      <td>0.5</td>\n",
       "      <td>0.00</td>\n",
       "      <td>0.00</td>\n",
       "      <td>707600771239</td>\n",
       "      <td>0.3</td>\n",
       "      <td>2.5</td>\n",
       "    </tr>\n",
       "    <tr>\n",
       "      <th>1237867</th>\n",
       "      <td>2</td>\n",
       "      <td>2021-01-31 23:09:52</td>\n",
       "      <td>2021-01-31 23:51:56</td>\n",
       "      <td>2</td>\n",
       "      <td>10.56</td>\n",
       "      <td>1</td>\n",
       "      <td>N</td>\n",
       "      <td>56</td>\n",
       "      <td>68</td>\n",
       "      <td>1</td>\n",
       "      <td>37.5</td>\n",
       "      <td>0.5</td>\n",
       "      <td>0.5</td>\n",
       "      <td>0.00</td>\n",
       "      <td>6.12</td>\n",
       "      <td>671711024112</td>\n",
       "      <td>0.3</td>\n",
       "      <td>0.0</td>\n",
       "    </tr>\n",
       "    <tr>\n",
       "      <th>1237868</th>\n",
       "      <td>2</td>\n",
       "      <td>2021-01-31 23:26:15</td>\n",
       "      <td>2021-01-31 23:33:48</td>\n",
       "      <td>2</td>\n",
       "      <td>1.93</td>\n",
       "      <td>1</td>\n",
       "      <td>N</td>\n",
       "      <td>230</td>\n",
       "      <td>229</td>\n",
       "      <td>1</td>\n",
       "      <td>7.5</td>\n",
       "      <td>0.5</td>\n",
       "      <td>0.5</td>\n",
       "      <td>2.26</td>\n",
       "      <td>0.00</td>\n",
       "      <td>797365950172</td>\n",
       "      <td>0.3</td>\n",
       "      <td>2.5</td>\n",
       "    </tr>\n",
       "  </tbody>\n",
       "</table>\n",
       "<p>1237869 rows × 18 columns</p>\n",
       "</div>"
      ],
      "text/plain": [
       "         VendorID tpep_pickup_datetime tpep_dropoff_datetime  passenger_count  \\\n",
       "0               1  2021-01-01 00:30:10   2021-01-01 00:36:12                1   \n",
       "1               1  2021-01-01 00:51:20   2021-01-01 00:52:19                1   \n",
       "2               1  2021-01-01 00:43:30   2021-01-01 01:11:06                1   \n",
       "3               2  2021-01-01 00:31:49   2021-01-01 00:48:21                1   \n",
       "4               1  2021-01-01 00:16:29   2021-01-01 00:24:30                1   \n",
       "...           ...                  ...                   ...              ...   \n",
       "1237864         2  2021-01-31 23:39:26   2021-01-31 23:54:36                3   \n",
       "1237865         2  2021-01-31 23:07:54   2021-01-31 23:19:42                1   \n",
       "1237866         2  2021-01-31 23:30:45   2021-01-31 23:35:13                1   \n",
       "1237867         2  2021-01-31 23:09:52   2021-01-31 23:51:56                2   \n",
       "1237868         2  2021-01-31 23:26:15   2021-01-31 23:33:48                2   \n",
       "\n",
       "         trip_distance  RatecodeID store_and_fwd_flag  PULocationID  \\\n",
       "0                 2.10           1                  N           142   \n",
       "1                 0.20           1                  N           238   \n",
       "2                14.70           1                  N           132   \n",
       "3                 4.94           1                  N            68   \n",
       "4                 1.60           1                  N           224   \n",
       "...                ...         ...                ...           ...   \n",
       "1237864           6.85           1                  N           137   \n",
       "1237865           3.81           1                  N           113   \n",
       "1237866           1.32           1                  N           233   \n",
       "1237867          10.56           1                  N            56   \n",
       "1237868           1.93           1                  N           230   \n",
       "\n",
       "         DOLocationID  payment_type  fare_amount  extra  mta_tax  tip_amount  \\\n",
       "0                  43             2          8.0    3.0      0.5        0.00   \n",
       "1                 151             2          3.0    0.5      0.5        0.00   \n",
       "2                 165             1         42.0    0.5      0.5        8.65   \n",
       "3                  33             1         16.5    0.5      0.5        4.06   \n",
       "4                  68             1          8.0    3.0      0.5        2.35   \n",
       "...               ...           ...          ...    ...      ...         ...   \n",
       "1237864            42             2         20.5    0.5      0.5        0.00   \n",
       "1237865           141             2         12.5    0.5      0.5        0.00   \n",
       "1237866           237             2          6.0    0.5      0.5        0.00   \n",
       "1237867            68             1         37.5    0.5      0.5        0.00   \n",
       "1237868           229             1          7.5    0.5      0.5        2.26   \n",
       "\n",
       "         tolls_amount        tripId  improvement_surcharge  \\\n",
       "0                0.00  559893529209                    0.3   \n",
       "1                0.00  993405808080                    0.3   \n",
       "2                0.00  267031741304                    0.3   \n",
       "3                0.00  603494714228                    0.3   \n",
       "4                0.00  796431455521                    0.3   \n",
       "...               ...           ...                    ...   \n",
       "1237864          0.00  879791232973                    0.3   \n",
       "1237865          0.00  823977871617                    0.3   \n",
       "1237866          0.00  707600771239                    0.3   \n",
       "1237867          6.12  671711024112                    0.3   \n",
       "1237868          0.00  797365950172                    0.3   \n",
       "\n",
       "         congestion_surcharge  \n",
       "0                         2.5  \n",
       "1                         0.0  \n",
       "2                         0.0  \n",
       "3                         2.5  \n",
       "4                         2.5  \n",
       "...                       ...  \n",
       "1237864                   2.5  \n",
       "1237865                   2.5  \n",
       "1237866                   2.5  \n",
       "1237867                   0.0  \n",
       "1237868                   2.5  \n",
       "\n",
       "[1237869 rows x 18 columns]"
      ]
     },
     "execution_count": 36,
     "metadata": {},
     "output_type": "execute_result"
    }
   ],
   "source": [
    "joined"
   ]
  },
  {
   "cell_type": "code",
   "execution_count": 37,
   "id": "5625e0fa",
   "metadata": {},
   "outputs": [
    {
     "data": {
      "text/plain": [
       "VendorID                 0\n",
       "tpep_pickup_datetime     0\n",
       "tpep_dropoff_datetime    0\n",
       "passenger_count          0\n",
       "trip_distance            0\n",
       "RatecodeID               0\n",
       "store_and_fwd_flag       0\n",
       "PULocationID             0\n",
       "DOLocationID             0\n",
       "payment_type             0\n",
       "fare_amount              0\n",
       "extra                    0\n",
       "mta_tax                  0\n",
       "tip_amount               0\n",
       "tolls_amount             0\n",
       "tripId                   0\n",
       "improvement_surcharge    0\n",
       "congestion_surcharge     0\n",
       "dtype: int64"
      ]
     },
     "execution_count": 37,
     "metadata": {},
     "output_type": "execute_result"
    }
   ],
   "source": [
    "joined.isnull().sum()"
   ]
  },
  {
   "cell_type": "code",
   "execution_count": 38,
   "id": "f420036d",
   "metadata": {},
   "outputs": [
    {
     "data": {
      "text/plain": [
       "VendorID                          int64\n",
       "tpep_pickup_datetime     datetime64[ns]\n",
       "tpep_dropoff_datetime    datetime64[ns]\n",
       "passenger_count                   int64\n",
       "trip_distance                   float64\n",
       "RatecodeID                        int64\n",
       "store_and_fwd_flag             category\n",
       "PULocationID                      int64\n",
       "DOLocationID                      int64\n",
       "payment_type                      int64\n",
       "fare_amount                     float64\n",
       "extra                           float64\n",
       "mta_tax                         float64\n",
       "tip_amount                      float64\n",
       "tolls_amount                    float64\n",
       "tripId                            int64\n",
       "improvement_surcharge           float64\n",
       "congestion_surcharge            float64\n",
       "dtype: object"
      ]
     },
     "execution_count": 38,
     "metadata": {},
     "output_type": "execute_result"
    }
   ],
   "source": [
    "joined.dtypes"
   ]
  },
  {
   "cell_type": "markdown",
   "id": "0d04d389",
   "metadata": {},
   "source": [
    "# Add columns for analysis"
   ]
  },
  {
   "cell_type": "code",
   "execution_count": 39,
   "id": "011c1236",
   "metadata": {},
   "outputs": [],
   "source": [
    "joined['tip_ratio'] = joined['tip_amount']/joined['fare_amount']\n",
    "joined['Hour'] = (joined['tpep_pickup_datetime']).dt.hour\n",
    "joined['DoW'] = (joined['tpep_pickup_datetime']).dt.day_name()"
   ]
  },
  {
   "cell_type": "markdown",
   "id": "d66e6a30",
   "metadata": {},
   "source": [
    "# Join dimension table"
   ]
  },
  {
   "cell_type": "code",
   "execution_count": 40,
   "id": "cdedb6c6",
   "metadata": {},
   "outputs": [],
   "source": [
    "vendor_lst = [[1, 'Creative Mobile Technologies, LLC'],\n",
    "                    [2, 'VeriFone Inc.']] \n",
    "\n",
    "# creating df object with columns specified    \n",
    "dimVendor = pd.DataFrame(vendor_lst, columns =['VendorID', 'vendor_name']) "
   ]
  },
  {
   "cell_type": "code",
   "execution_count": 41,
   "id": "a28fb7f7",
   "metadata": {},
   "outputs": [],
   "source": [
    "joined2 = joined.merge(dimVendor, how='left', on='VendorID')"
   ]
  },
  {
   "cell_type": "code",
   "execution_count": 42,
   "id": "74f7bafc",
   "metadata": {},
   "outputs": [],
   "source": [
    "ratecode_lst = [[1, 'Standard rate'],\n",
    "                [2,'JFK'],\n",
    "                [3,'Newark'],\n",
    "                [4,'Nassau or Westchester'],\n",
    "                [5,'Negotiated fare'],\n",
    "                [6,'Group ride']] \n",
    "\n",
    "# creating df object with columns specified    \n",
    "dimRatecode = pd.DataFrame(ratecode_lst, columns =['RatecodeID', 'RateCode']) "
   ]
  },
  {
   "cell_type": "code",
   "execution_count": 43,
   "id": "40f07cb3",
   "metadata": {},
   "outputs": [],
   "source": [
    "joined3 = joined2.merge(dimRatecode, how='left', on='RatecodeID')"
   ]
  },
  {
   "cell_type": "code",
   "execution_count": 44,
   "id": "394ad907",
   "metadata": {},
   "outputs": [],
   "source": [
    "payment_type_lst = [[1, 'Credit card'],\n",
    "                    [2, 'Cash'],\n",
    "                    [3, 'No charge'],\n",
    "                    [4, 'Dispute'],\n",
    "                    [5, 'Unknown'],\n",
    "                    [6, 'Voided trip']] \n",
    "\n",
    "# creating df object with columns specified    \n",
    "dimPayment_type = pd.DataFrame(payment_type_lst, columns =['payment_id', 'payment_type']) \n"
   ]
  },
  {
   "cell_type": "code",
   "execution_count": 45,
   "id": "e1ccf237",
   "metadata": {},
   "outputs": [],
   "source": [
    "final = joined3.merge(dimPayment_type, how='left', left_on='payment_type', right_on='payment_id')\n",
    "final = final.drop(['payment_id','payment_type_x'], axis =1)\n",
    "final = final.rename(columns={\"payment_type_y\": \"payment_type\"})"
   ]
  },
  {
   "cell_type": "code",
   "execution_count": 46,
   "id": "a1c2122c",
   "metadata": {},
   "outputs": [
    {
     "data": {
      "text/html": [
       "<div>\n",
       "<style scoped>\n",
       "    .dataframe tbody tr th:only-of-type {\n",
       "        vertical-align: middle;\n",
       "    }\n",
       "\n",
       "    .dataframe tbody tr th {\n",
       "        vertical-align: top;\n",
       "    }\n",
       "\n",
       "    .dataframe thead th {\n",
       "        text-align: right;\n",
       "    }\n",
       "</style>\n",
       "<table border=\"1\" class=\"dataframe\">\n",
       "  <thead>\n",
       "    <tr style=\"text-align: right;\">\n",
       "      <th></th>\n",
       "      <th>VendorID</th>\n",
       "      <th>tpep_pickup_datetime</th>\n",
       "      <th>tpep_dropoff_datetime</th>\n",
       "      <th>passenger_count</th>\n",
       "      <th>trip_distance</th>\n",
       "      <th>RatecodeID</th>\n",
       "      <th>store_and_fwd_flag</th>\n",
       "      <th>PULocationID</th>\n",
       "      <th>DOLocationID</th>\n",
       "      <th>fare_amount</th>\n",
       "      <th>...</th>\n",
       "      <th>tolls_amount</th>\n",
       "      <th>tripId</th>\n",
       "      <th>improvement_surcharge</th>\n",
       "      <th>congestion_surcharge</th>\n",
       "      <th>tip_ratio</th>\n",
       "      <th>Hour</th>\n",
       "      <th>DoW</th>\n",
       "      <th>vendor_name</th>\n",
       "      <th>RateCode</th>\n",
       "      <th>payment_type</th>\n",
       "    </tr>\n",
       "  </thead>\n",
       "  <tbody>\n",
       "    <tr>\n",
       "      <th>0</th>\n",
       "      <td>1</td>\n",
       "      <td>2021-01-01 00:30:10</td>\n",
       "      <td>2021-01-01 00:36:12</td>\n",
       "      <td>1</td>\n",
       "      <td>2.10</td>\n",
       "      <td>1</td>\n",
       "      <td>N</td>\n",
       "      <td>142</td>\n",
       "      <td>43</td>\n",
       "      <td>8.0</td>\n",
       "      <td>...</td>\n",
       "      <td>0.00</td>\n",
       "      <td>559893529209</td>\n",
       "      <td>0.3</td>\n",
       "      <td>2.5</td>\n",
       "      <td>0.000000</td>\n",
       "      <td>0</td>\n",
       "      <td>Friday</td>\n",
       "      <td>Creative Mobile Technologies, LLC</td>\n",
       "      <td>Standard rate</td>\n",
       "      <td>Cash</td>\n",
       "    </tr>\n",
       "    <tr>\n",
       "      <th>1</th>\n",
       "      <td>1</td>\n",
       "      <td>2021-01-01 00:51:20</td>\n",
       "      <td>2021-01-01 00:52:19</td>\n",
       "      <td>1</td>\n",
       "      <td>0.20</td>\n",
       "      <td>1</td>\n",
       "      <td>N</td>\n",
       "      <td>238</td>\n",
       "      <td>151</td>\n",
       "      <td>3.0</td>\n",
       "      <td>...</td>\n",
       "      <td>0.00</td>\n",
       "      <td>993405808080</td>\n",
       "      <td>0.3</td>\n",
       "      <td>0.0</td>\n",
       "      <td>0.000000</td>\n",
       "      <td>0</td>\n",
       "      <td>Friday</td>\n",
       "      <td>Creative Mobile Technologies, LLC</td>\n",
       "      <td>Standard rate</td>\n",
       "      <td>Cash</td>\n",
       "    </tr>\n",
       "    <tr>\n",
       "      <th>2</th>\n",
       "      <td>1</td>\n",
       "      <td>2021-01-01 00:43:30</td>\n",
       "      <td>2021-01-01 01:11:06</td>\n",
       "      <td>1</td>\n",
       "      <td>14.70</td>\n",
       "      <td>1</td>\n",
       "      <td>N</td>\n",
       "      <td>132</td>\n",
       "      <td>165</td>\n",
       "      <td>42.0</td>\n",
       "      <td>...</td>\n",
       "      <td>0.00</td>\n",
       "      <td>267031741304</td>\n",
       "      <td>0.3</td>\n",
       "      <td>0.0</td>\n",
       "      <td>0.205952</td>\n",
       "      <td>0</td>\n",
       "      <td>Friday</td>\n",
       "      <td>Creative Mobile Technologies, LLC</td>\n",
       "      <td>Standard rate</td>\n",
       "      <td>Credit card</td>\n",
       "    </tr>\n",
       "    <tr>\n",
       "      <th>3</th>\n",
       "      <td>2</td>\n",
       "      <td>2021-01-01 00:31:49</td>\n",
       "      <td>2021-01-01 00:48:21</td>\n",
       "      <td>1</td>\n",
       "      <td>4.94</td>\n",
       "      <td>1</td>\n",
       "      <td>N</td>\n",
       "      <td>68</td>\n",
       "      <td>33</td>\n",
       "      <td>16.5</td>\n",
       "      <td>...</td>\n",
       "      <td>0.00</td>\n",
       "      <td>603494714228</td>\n",
       "      <td>0.3</td>\n",
       "      <td>2.5</td>\n",
       "      <td>0.246061</td>\n",
       "      <td>0</td>\n",
       "      <td>Friday</td>\n",
       "      <td>VeriFone Inc.</td>\n",
       "      <td>Standard rate</td>\n",
       "      <td>Credit card</td>\n",
       "    </tr>\n",
       "    <tr>\n",
       "      <th>4</th>\n",
       "      <td>1</td>\n",
       "      <td>2021-01-01 00:16:29</td>\n",
       "      <td>2021-01-01 00:24:30</td>\n",
       "      <td>1</td>\n",
       "      <td>1.60</td>\n",
       "      <td>1</td>\n",
       "      <td>N</td>\n",
       "      <td>224</td>\n",
       "      <td>68</td>\n",
       "      <td>8.0</td>\n",
       "      <td>...</td>\n",
       "      <td>0.00</td>\n",
       "      <td>796431455521</td>\n",
       "      <td>0.3</td>\n",
       "      <td>2.5</td>\n",
       "      <td>0.293750</td>\n",
       "      <td>0</td>\n",
       "      <td>Friday</td>\n",
       "      <td>Creative Mobile Technologies, LLC</td>\n",
       "      <td>Standard rate</td>\n",
       "      <td>Credit card</td>\n",
       "    </tr>\n",
       "    <tr>\n",
       "      <th>...</th>\n",
       "      <td>...</td>\n",
       "      <td>...</td>\n",
       "      <td>...</td>\n",
       "      <td>...</td>\n",
       "      <td>...</td>\n",
       "      <td>...</td>\n",
       "      <td>...</td>\n",
       "      <td>...</td>\n",
       "      <td>...</td>\n",
       "      <td>...</td>\n",
       "      <td>...</td>\n",
       "      <td>...</td>\n",
       "      <td>...</td>\n",
       "      <td>...</td>\n",
       "      <td>...</td>\n",
       "      <td>...</td>\n",
       "      <td>...</td>\n",
       "      <td>...</td>\n",
       "      <td>...</td>\n",
       "      <td>...</td>\n",
       "      <td>...</td>\n",
       "    </tr>\n",
       "    <tr>\n",
       "      <th>1237864</th>\n",
       "      <td>2</td>\n",
       "      <td>2021-01-31 23:39:26</td>\n",
       "      <td>2021-01-31 23:54:36</td>\n",
       "      <td>3</td>\n",
       "      <td>6.85</td>\n",
       "      <td>1</td>\n",
       "      <td>N</td>\n",
       "      <td>137</td>\n",
       "      <td>42</td>\n",
       "      <td>20.5</td>\n",
       "      <td>...</td>\n",
       "      <td>0.00</td>\n",
       "      <td>879791232973</td>\n",
       "      <td>0.3</td>\n",
       "      <td>2.5</td>\n",
       "      <td>0.000000</td>\n",
       "      <td>23</td>\n",
       "      <td>Sunday</td>\n",
       "      <td>VeriFone Inc.</td>\n",
       "      <td>Standard rate</td>\n",
       "      <td>Cash</td>\n",
       "    </tr>\n",
       "    <tr>\n",
       "      <th>1237865</th>\n",
       "      <td>2</td>\n",
       "      <td>2021-01-31 23:07:54</td>\n",
       "      <td>2021-01-31 23:19:42</td>\n",
       "      <td>1</td>\n",
       "      <td>3.81</td>\n",
       "      <td>1</td>\n",
       "      <td>N</td>\n",
       "      <td>113</td>\n",
       "      <td>141</td>\n",
       "      <td>12.5</td>\n",
       "      <td>...</td>\n",
       "      <td>0.00</td>\n",
       "      <td>823977871617</td>\n",
       "      <td>0.3</td>\n",
       "      <td>2.5</td>\n",
       "      <td>0.000000</td>\n",
       "      <td>23</td>\n",
       "      <td>Sunday</td>\n",
       "      <td>VeriFone Inc.</td>\n",
       "      <td>Standard rate</td>\n",
       "      <td>Cash</td>\n",
       "    </tr>\n",
       "    <tr>\n",
       "      <th>1237866</th>\n",
       "      <td>2</td>\n",
       "      <td>2021-01-31 23:30:45</td>\n",
       "      <td>2021-01-31 23:35:13</td>\n",
       "      <td>1</td>\n",
       "      <td>1.32</td>\n",
       "      <td>1</td>\n",
       "      <td>N</td>\n",
       "      <td>233</td>\n",
       "      <td>237</td>\n",
       "      <td>6.0</td>\n",
       "      <td>...</td>\n",
       "      <td>0.00</td>\n",
       "      <td>707600771239</td>\n",
       "      <td>0.3</td>\n",
       "      <td>2.5</td>\n",
       "      <td>0.000000</td>\n",
       "      <td>23</td>\n",
       "      <td>Sunday</td>\n",
       "      <td>VeriFone Inc.</td>\n",
       "      <td>Standard rate</td>\n",
       "      <td>Cash</td>\n",
       "    </tr>\n",
       "    <tr>\n",
       "      <th>1237867</th>\n",
       "      <td>2</td>\n",
       "      <td>2021-01-31 23:09:52</td>\n",
       "      <td>2021-01-31 23:51:56</td>\n",
       "      <td>2</td>\n",
       "      <td>10.56</td>\n",
       "      <td>1</td>\n",
       "      <td>N</td>\n",
       "      <td>56</td>\n",
       "      <td>68</td>\n",
       "      <td>37.5</td>\n",
       "      <td>...</td>\n",
       "      <td>6.12</td>\n",
       "      <td>671711024112</td>\n",
       "      <td>0.3</td>\n",
       "      <td>0.0</td>\n",
       "      <td>0.000000</td>\n",
       "      <td>23</td>\n",
       "      <td>Sunday</td>\n",
       "      <td>VeriFone Inc.</td>\n",
       "      <td>Standard rate</td>\n",
       "      <td>Credit card</td>\n",
       "    </tr>\n",
       "    <tr>\n",
       "      <th>1237868</th>\n",
       "      <td>2</td>\n",
       "      <td>2021-01-31 23:26:15</td>\n",
       "      <td>2021-01-31 23:33:48</td>\n",
       "      <td>2</td>\n",
       "      <td>1.93</td>\n",
       "      <td>1</td>\n",
       "      <td>N</td>\n",
       "      <td>230</td>\n",
       "      <td>229</td>\n",
       "      <td>7.5</td>\n",
       "      <td>...</td>\n",
       "      <td>0.00</td>\n",
       "      <td>797365950172</td>\n",
       "      <td>0.3</td>\n",
       "      <td>2.5</td>\n",
       "      <td>0.301333</td>\n",
       "      <td>23</td>\n",
       "      <td>Sunday</td>\n",
       "      <td>VeriFone Inc.</td>\n",
       "      <td>Standard rate</td>\n",
       "      <td>Credit card</td>\n",
       "    </tr>\n",
       "  </tbody>\n",
       "</table>\n",
       "<p>1237869 rows × 23 columns</p>\n",
       "</div>"
      ],
      "text/plain": [
       "         VendorID tpep_pickup_datetime tpep_dropoff_datetime  passenger_count  \\\n",
       "0               1  2021-01-01 00:30:10   2021-01-01 00:36:12                1   \n",
       "1               1  2021-01-01 00:51:20   2021-01-01 00:52:19                1   \n",
       "2               1  2021-01-01 00:43:30   2021-01-01 01:11:06                1   \n",
       "3               2  2021-01-01 00:31:49   2021-01-01 00:48:21                1   \n",
       "4               1  2021-01-01 00:16:29   2021-01-01 00:24:30                1   \n",
       "...           ...                  ...                   ...              ...   \n",
       "1237864         2  2021-01-31 23:39:26   2021-01-31 23:54:36                3   \n",
       "1237865         2  2021-01-31 23:07:54   2021-01-31 23:19:42                1   \n",
       "1237866         2  2021-01-31 23:30:45   2021-01-31 23:35:13                1   \n",
       "1237867         2  2021-01-31 23:09:52   2021-01-31 23:51:56                2   \n",
       "1237868         2  2021-01-31 23:26:15   2021-01-31 23:33:48                2   \n",
       "\n",
       "         trip_distance  RatecodeID store_and_fwd_flag  PULocationID  \\\n",
       "0                 2.10           1                  N           142   \n",
       "1                 0.20           1                  N           238   \n",
       "2                14.70           1                  N           132   \n",
       "3                 4.94           1                  N            68   \n",
       "4                 1.60           1                  N           224   \n",
       "...                ...         ...                ...           ...   \n",
       "1237864           6.85           1                  N           137   \n",
       "1237865           3.81           1                  N           113   \n",
       "1237866           1.32           1                  N           233   \n",
       "1237867          10.56           1                  N            56   \n",
       "1237868           1.93           1                  N           230   \n",
       "\n",
       "         DOLocationID  fare_amount  ...  tolls_amount        tripId  \\\n",
       "0                  43          8.0  ...          0.00  559893529209   \n",
       "1                 151          3.0  ...          0.00  993405808080   \n",
       "2                 165         42.0  ...          0.00  267031741304   \n",
       "3                  33         16.5  ...          0.00  603494714228   \n",
       "4                  68          8.0  ...          0.00  796431455521   \n",
       "...               ...          ...  ...           ...           ...   \n",
       "1237864            42         20.5  ...          0.00  879791232973   \n",
       "1237865           141         12.5  ...          0.00  823977871617   \n",
       "1237866           237          6.0  ...          0.00  707600771239   \n",
       "1237867            68         37.5  ...          6.12  671711024112   \n",
       "1237868           229          7.5  ...          0.00  797365950172   \n",
       "\n",
       "         improvement_surcharge  congestion_surcharge  tip_ratio  Hour     DoW  \\\n",
       "0                          0.3                   2.5   0.000000     0  Friday   \n",
       "1                          0.3                   0.0   0.000000     0  Friday   \n",
       "2                          0.3                   0.0   0.205952     0  Friday   \n",
       "3                          0.3                   2.5   0.246061     0  Friday   \n",
       "4                          0.3                   2.5   0.293750     0  Friday   \n",
       "...                        ...                   ...        ...   ...     ...   \n",
       "1237864                    0.3                   2.5   0.000000    23  Sunday   \n",
       "1237865                    0.3                   2.5   0.000000    23  Sunday   \n",
       "1237866                    0.3                   2.5   0.000000    23  Sunday   \n",
       "1237867                    0.3                   0.0   0.000000    23  Sunday   \n",
       "1237868                    0.3                   2.5   0.301333    23  Sunday   \n",
       "\n",
       "                               vendor_name       RateCode payment_type  \n",
       "0        Creative Mobile Technologies, LLC  Standard rate         Cash  \n",
       "1        Creative Mobile Technologies, LLC  Standard rate         Cash  \n",
       "2        Creative Mobile Technologies, LLC  Standard rate  Credit card  \n",
       "3                            VeriFone Inc.  Standard rate  Credit card  \n",
       "4        Creative Mobile Technologies, LLC  Standard rate  Credit card  \n",
       "...                                    ...            ...          ...  \n",
       "1237864                      VeriFone Inc.  Standard rate         Cash  \n",
       "1237865                      VeriFone Inc.  Standard rate         Cash  \n",
       "1237866                      VeriFone Inc.  Standard rate         Cash  \n",
       "1237867                      VeriFone Inc.  Standard rate  Credit card  \n",
       "1237868                      VeriFone Inc.  Standard rate  Credit card  \n",
       "\n",
       "[1237869 rows x 23 columns]"
      ]
     },
     "execution_count": 46,
     "metadata": {},
     "output_type": "execute_result"
    }
   ],
   "source": [
    "final"
   ]
  },
  {
   "cell_type": "markdown",
   "id": "f287ab24",
   "metadata": {},
   "source": [
    "# Join Spatial_taxi_zone"
   ]
  },
  {
   "cell_type": "code",
   "execution_count": 47,
   "id": "a8ceca27",
   "metadata": {},
   "outputs": [],
   "source": [
    "taxi_zone = pd.read_csv('taxi_zones.csv')"
   ]
  },
  {
   "cell_type": "code",
   "execution_count": 48,
   "id": "b4b239d6",
   "metadata": {},
   "outputs": [
    {
     "data": {
      "text/plain": [
       "OBJECTID        int64\n",
       "Shape_Leng    float64\n",
       "the_geom       object\n",
       "Shape_Area    float64\n",
       "zone           object\n",
       "LocationID      int64\n",
       "borough        object\n",
       "dtype: object"
      ]
     },
     "execution_count": 48,
     "metadata": {},
     "output_type": "execute_result"
    }
   ],
   "source": [
    "taxi_zone.dtypes"
   ]
  },
  {
   "cell_type": "code",
   "execution_count": 49,
   "id": "0536ead5",
   "metadata": {},
   "outputs": [],
   "source": [
    "final_with_zone = final.merge(taxi_zone, how='left', left_on='PULocationID', right_on='LocationID')\n",
    "final_with_zone = final_with_zone.drop(final_with_zone[final_with_zone['RateCode'].isnull()].index)"
   ]
  },
  {
   "cell_type": "code",
   "execution_count": 50,
   "id": "cc8976b2",
   "metadata": {},
   "outputs": [
    {
     "data": {
      "text/plain": [
       "VendorID                    0\n",
       "tpep_pickup_datetime        0\n",
       "tpep_dropoff_datetime       0\n",
       "passenger_count             0\n",
       "trip_distance               0\n",
       "RatecodeID                  0\n",
       "store_and_fwd_flag          0\n",
       "PULocationID                0\n",
       "DOLocationID                0\n",
       "fare_amount                 0\n",
       "extra                       0\n",
       "mta_tax                     0\n",
       "tip_amount                  0\n",
       "tolls_amount                0\n",
       "tripId                      0\n",
       "improvement_surcharge       0\n",
       "congestion_surcharge        0\n",
       "tip_ratio                 578\n",
       "Hour                        0\n",
       "DoW                         0\n",
       "vendor_name                 0\n",
       "RateCode                    0\n",
       "payment_type                0\n",
       "OBJECTID                 9406\n",
       "Shape_Leng               9406\n",
       "the_geom                 9406\n",
       "Shape_Area               9406\n",
       "zone                     9406\n",
       "LocationID               9406\n",
       "borough                  9406\n",
       "dtype: int64"
      ]
     },
     "execution_count": 50,
     "metadata": {},
     "output_type": "execute_result"
    }
   ],
   "source": [
    "final_with_zone.isnull().sum()"
   ]
  },
  {
   "cell_type": "code",
   "execution_count": 51,
   "id": "c6d97ec3",
   "metadata": {},
   "outputs": [],
   "source": [
    "grouped_data = final_with_zone.groupby(['zone','the_geom', 'DoW', 'Hour']).agg({'tripId':'count', \n",
    "                                                                                 'tip_amount':['mean','sum'], \n",
    "                                                                                 'trip_distance':'mean', \n",
    "                                                                                 'fare_amount': ['mean','sum']})"
   ]
  },
  {
   "cell_type": "code",
   "execution_count": 52,
   "id": "f3d58fd5",
   "metadata": {},
   "outputs": [],
   "source": [
    "final_with_zone = final_with_zone.drop(['OBJECTID', 'Shape_Leng', 'Shape_Area', 'LocationID', 'the_geom'], axis=1)\n"
   ]
  },
  {
   "cell_type": "markdown",
   "id": "d31febda",
   "metadata": {},
   "source": [
    "# Export"
   ]
  },
  {
   "cell_type": "code",
   "execution_count": 53,
   "id": "5dd27869",
   "metadata": {},
   "outputs": [],
   "source": [
    "# final.to_csv(\"cleaned_yellow_tripdata_2021-01_v2.csv\")"
   ]
  },
  {
   "cell_type": "code",
   "execution_count": 54,
   "id": "f0663f5d",
   "metadata": {},
   "outputs": [],
   "source": [
    "final_with_zone.to_csv(\"cleaned_yellow_tripdata_2021-01_v4.csv\")"
   ]
  },
  {
   "cell_type": "code",
   "execution_count": 55,
   "id": "2e481a1f",
   "metadata": {},
   "outputs": [],
   "source": [
    "grouped_data.to_csv(\"aggzone_v2.csv\")"
   ]
  },
  {
   "cell_type": "markdown",
   "id": "6ebc01de",
   "metadata": {},
   "source": [
    "# Analyse tip"
   ]
  },
  {
   "cell_type": "code",
   "execution_count": 56,
   "id": "b2ac45c2",
   "metadata": {},
   "outputs": [
    {
     "name": "stdout",
     "output_type": "stream",
     "text": [
      "2.7\n",
      "-4.050000000000001\n",
      "6.750000000000001\n"
     ]
    }
   ],
   "source": [
    "Q1 = final['tip_amount'].quantile(0.25)\n",
    "Q3 = final['tip_amount'].quantile(0.75)\n",
    "IQR = Q3 - Q1\n",
    "low_lim = Q1 - 1.5 * IQR\n",
    "up_lim = Q3 + 1.5 * IQR\n",
    "print(IQR)\n",
    "print(low_lim)\n",
    "print(up_lim)"
   ]
  },
  {
   "cell_type": "code",
   "execution_count": 57,
   "id": "a6aa288d",
   "metadata": {},
   "outputs": [],
   "source": [
    "credit_card_trx = final[final['payment_type']=='Credit card']\n"
   ]
  },
  {
   "cell_type": "code",
   "execution_count": 58,
   "id": "751fef5c",
   "metadata": {},
   "outputs": [
    {
     "data": {
      "text/html": [
       "<div>\n",
       "<style scoped>\n",
       "    .dataframe tbody tr th:only-of-type {\n",
       "        vertical-align: middle;\n",
       "    }\n",
       "\n",
       "    .dataframe tbody tr th {\n",
       "        vertical-align: top;\n",
       "    }\n",
       "\n",
       "    .dataframe thead th {\n",
       "        text-align: right;\n",
       "    }\n",
       "</style>\n",
       "<table border=\"1\" class=\"dataframe\">\n",
       "  <thead>\n",
       "    <tr style=\"text-align: right;\">\n",
       "      <th></th>\n",
       "      <th>VendorID</th>\n",
       "      <th>tpep_pickup_datetime</th>\n",
       "      <th>tpep_dropoff_datetime</th>\n",
       "      <th>passenger_count</th>\n",
       "      <th>trip_distance</th>\n",
       "      <th>RatecodeID</th>\n",
       "      <th>store_and_fwd_flag</th>\n",
       "      <th>PULocationID</th>\n",
       "      <th>DOLocationID</th>\n",
       "      <th>fare_amount</th>\n",
       "      <th>...</th>\n",
       "      <th>tolls_amount</th>\n",
       "      <th>tripId</th>\n",
       "      <th>improvement_surcharge</th>\n",
       "      <th>congestion_surcharge</th>\n",
       "      <th>tip_ratio</th>\n",
       "      <th>Hour</th>\n",
       "      <th>DoW</th>\n",
       "      <th>vendor_name</th>\n",
       "      <th>RateCode</th>\n",
       "      <th>payment_type</th>\n",
       "    </tr>\n",
       "  </thead>\n",
       "  <tbody>\n",
       "    <tr>\n",
       "      <th>2</th>\n",
       "      <td>1</td>\n",
       "      <td>2021-01-01 00:43:30</td>\n",
       "      <td>2021-01-01 01:11:06</td>\n",
       "      <td>1</td>\n",
       "      <td>14.70</td>\n",
       "      <td>1</td>\n",
       "      <td>N</td>\n",
       "      <td>132</td>\n",
       "      <td>165</td>\n",
       "      <td>42.0</td>\n",
       "      <td>...</td>\n",
       "      <td>0.00</td>\n",
       "      <td>267031741304</td>\n",
       "      <td>0.3</td>\n",
       "      <td>0.0</td>\n",
       "      <td>0.205952</td>\n",
       "      <td>0</td>\n",
       "      <td>Friday</td>\n",
       "      <td>Creative Mobile Technologies, LLC</td>\n",
       "      <td>Standard rate</td>\n",
       "      <td>Credit card</td>\n",
       "    </tr>\n",
       "    <tr>\n",
       "      <th>3</th>\n",
       "      <td>2</td>\n",
       "      <td>2021-01-01 00:31:49</td>\n",
       "      <td>2021-01-01 00:48:21</td>\n",
       "      <td>1</td>\n",
       "      <td>4.94</td>\n",
       "      <td>1</td>\n",
       "      <td>N</td>\n",
       "      <td>68</td>\n",
       "      <td>33</td>\n",
       "      <td>16.5</td>\n",
       "      <td>...</td>\n",
       "      <td>0.00</td>\n",
       "      <td>603494714228</td>\n",
       "      <td>0.3</td>\n",
       "      <td>2.5</td>\n",
       "      <td>0.246061</td>\n",
       "      <td>0</td>\n",
       "      <td>Friday</td>\n",
       "      <td>VeriFone Inc.</td>\n",
       "      <td>Standard rate</td>\n",
       "      <td>Credit card</td>\n",
       "    </tr>\n",
       "    <tr>\n",
       "      <th>4</th>\n",
       "      <td>1</td>\n",
       "      <td>2021-01-01 00:16:29</td>\n",
       "      <td>2021-01-01 00:24:30</td>\n",
       "      <td>1</td>\n",
       "      <td>1.60</td>\n",
       "      <td>1</td>\n",
       "      <td>N</td>\n",
       "      <td>224</td>\n",
       "      <td>68</td>\n",
       "      <td>8.0</td>\n",
       "      <td>...</td>\n",
       "      <td>0.00</td>\n",
       "      <td>796431455521</td>\n",
       "      <td>0.3</td>\n",
       "      <td>2.5</td>\n",
       "      <td>0.293750</td>\n",
       "      <td>0</td>\n",
       "      <td>Friday</td>\n",
       "      <td>Creative Mobile Technologies, LLC</td>\n",
       "      <td>Standard rate</td>\n",
       "      <td>Credit card</td>\n",
       "    </tr>\n",
       "    <tr>\n",
       "      <th>8</th>\n",
       "      <td>1</td>\n",
       "      <td>2021-01-01 00:26:12</td>\n",
       "      <td>2021-01-01 00:39:46</td>\n",
       "      <td>2</td>\n",
       "      <td>2.70</td>\n",
       "      <td>1</td>\n",
       "      <td>N</td>\n",
       "      <td>263</td>\n",
       "      <td>142</td>\n",
       "      <td>12.0</td>\n",
       "      <td>...</td>\n",
       "      <td>0.00</td>\n",
       "      <td>762316622020</td>\n",
       "      <td>0.3</td>\n",
       "      <td>2.5</td>\n",
       "      <td>0.262500</td>\n",
       "      <td>0</td>\n",
       "      <td>Friday</td>\n",
       "      <td>Creative Mobile Technologies, LLC</td>\n",
       "      <td>Standard rate</td>\n",
       "      <td>Credit card</td>\n",
       "    </tr>\n",
       "    <tr>\n",
       "      <th>9</th>\n",
       "      <td>2</td>\n",
       "      <td>2021-01-01 00:15:52</td>\n",
       "      <td>2021-01-01 00:38:07</td>\n",
       "      <td>3</td>\n",
       "      <td>6.11</td>\n",
       "      <td>1</td>\n",
       "      <td>N</td>\n",
       "      <td>164</td>\n",
       "      <td>255</td>\n",
       "      <td>20.5</td>\n",
       "      <td>...</td>\n",
       "      <td>0.00</td>\n",
       "      <td>410196195773</td>\n",
       "      <td>0.3</td>\n",
       "      <td>2.5</td>\n",
       "      <td>0.000000</td>\n",
       "      <td>0</td>\n",
       "      <td>Friday</td>\n",
       "      <td>VeriFone Inc.</td>\n",
       "      <td>Standard rate</td>\n",
       "      <td>Credit card</td>\n",
       "    </tr>\n",
       "    <tr>\n",
       "      <th>...</th>\n",
       "      <td>...</td>\n",
       "      <td>...</td>\n",
       "      <td>...</td>\n",
       "      <td>...</td>\n",
       "      <td>...</td>\n",
       "      <td>...</td>\n",
       "      <td>...</td>\n",
       "      <td>...</td>\n",
       "      <td>...</td>\n",
       "      <td>...</td>\n",
       "      <td>...</td>\n",
       "      <td>...</td>\n",
       "      <td>...</td>\n",
       "      <td>...</td>\n",
       "      <td>...</td>\n",
       "      <td>...</td>\n",
       "      <td>...</td>\n",
       "      <td>...</td>\n",
       "      <td>...</td>\n",
       "      <td>...</td>\n",
       "      <td>...</td>\n",
       "    </tr>\n",
       "    <tr>\n",
       "      <th>1237858</th>\n",
       "      <td>2</td>\n",
       "      <td>2021-01-31 23:25:13</td>\n",
       "      <td>2021-01-31 23:37:16</td>\n",
       "      <td>2</td>\n",
       "      <td>2.87</td>\n",
       "      <td>1</td>\n",
       "      <td>N</td>\n",
       "      <td>230</td>\n",
       "      <td>75</td>\n",
       "      <td>11.0</td>\n",
       "      <td>...</td>\n",
       "      <td>0.00</td>\n",
       "      <td>540317926189</td>\n",
       "      <td>0.3</td>\n",
       "      <td>2.5</td>\n",
       "      <td>0.018182</td>\n",
       "      <td>23</td>\n",
       "      <td>Sunday</td>\n",
       "      <td>VeriFone Inc.</td>\n",
       "      <td>Standard rate</td>\n",
       "      <td>Credit card</td>\n",
       "    </tr>\n",
       "    <tr>\n",
       "      <th>1237859</th>\n",
       "      <td>2</td>\n",
       "      <td>2021-01-31 23:36:30</td>\n",
       "      <td>2021-01-31 23:51:58</td>\n",
       "      <td>2</td>\n",
       "      <td>8.74</td>\n",
       "      <td>1</td>\n",
       "      <td>N</td>\n",
       "      <td>132</td>\n",
       "      <td>131</td>\n",
       "      <td>25.0</td>\n",
       "      <td>...</td>\n",
       "      <td>0.00</td>\n",
       "      <td>574343975705</td>\n",
       "      <td>0.3</td>\n",
       "      <td>0.0</td>\n",
       "      <td>0.000000</td>\n",
       "      <td>23</td>\n",
       "      <td>Sunday</td>\n",
       "      <td>VeriFone Inc.</td>\n",
       "      <td>Standard rate</td>\n",
       "      <td>Credit card</td>\n",
       "    </tr>\n",
       "    <tr>\n",
       "      <th>1237863</th>\n",
       "      <td>2</td>\n",
       "      <td>2021-01-31 23:12:06</td>\n",
       "      <td>2021-01-31 23:12:13</td>\n",
       "      <td>1</td>\n",
       "      <td>0.00</td>\n",
       "      <td>5</td>\n",
       "      <td>N</td>\n",
       "      <td>265</td>\n",
       "      <td>265</td>\n",
       "      <td>200.0</td>\n",
       "      <td>...</td>\n",
       "      <td>0.00</td>\n",
       "      <td>570663266304</td>\n",
       "      <td>0.3</td>\n",
       "      <td>0.0</td>\n",
       "      <td>0.050000</td>\n",
       "      <td>23</td>\n",
       "      <td>Sunday</td>\n",
       "      <td>VeriFone Inc.</td>\n",
       "      <td>Negotiated fare</td>\n",
       "      <td>Credit card</td>\n",
       "    </tr>\n",
       "    <tr>\n",
       "      <th>1237867</th>\n",
       "      <td>2</td>\n",
       "      <td>2021-01-31 23:09:52</td>\n",
       "      <td>2021-01-31 23:51:56</td>\n",
       "      <td>2</td>\n",
       "      <td>10.56</td>\n",
       "      <td>1</td>\n",
       "      <td>N</td>\n",
       "      <td>56</td>\n",
       "      <td>68</td>\n",
       "      <td>37.5</td>\n",
       "      <td>...</td>\n",
       "      <td>6.12</td>\n",
       "      <td>671711024112</td>\n",
       "      <td>0.3</td>\n",
       "      <td>0.0</td>\n",
       "      <td>0.000000</td>\n",
       "      <td>23</td>\n",
       "      <td>Sunday</td>\n",
       "      <td>VeriFone Inc.</td>\n",
       "      <td>Standard rate</td>\n",
       "      <td>Credit card</td>\n",
       "    </tr>\n",
       "    <tr>\n",
       "      <th>1237868</th>\n",
       "      <td>2</td>\n",
       "      <td>2021-01-31 23:26:15</td>\n",
       "      <td>2021-01-31 23:33:48</td>\n",
       "      <td>2</td>\n",
       "      <td>1.93</td>\n",
       "      <td>1</td>\n",
       "      <td>N</td>\n",
       "      <td>230</td>\n",
       "      <td>229</td>\n",
       "      <td>7.5</td>\n",
       "      <td>...</td>\n",
       "      <td>0.00</td>\n",
       "      <td>797365950172</td>\n",
       "      <td>0.3</td>\n",
       "      <td>2.5</td>\n",
       "      <td>0.301333</td>\n",
       "      <td>23</td>\n",
       "      <td>Sunday</td>\n",
       "      <td>VeriFone Inc.</td>\n",
       "      <td>Standard rate</td>\n",
       "      <td>Credit card</td>\n",
       "    </tr>\n",
       "  </tbody>\n",
       "</table>\n",
       "<p>915084 rows × 23 columns</p>\n",
       "</div>"
      ],
      "text/plain": [
       "         VendorID tpep_pickup_datetime tpep_dropoff_datetime  passenger_count  \\\n",
       "2               1  2021-01-01 00:43:30   2021-01-01 01:11:06                1   \n",
       "3               2  2021-01-01 00:31:49   2021-01-01 00:48:21                1   \n",
       "4               1  2021-01-01 00:16:29   2021-01-01 00:24:30                1   \n",
       "8               1  2021-01-01 00:26:12   2021-01-01 00:39:46                2   \n",
       "9               2  2021-01-01 00:15:52   2021-01-01 00:38:07                3   \n",
       "...           ...                  ...                   ...              ...   \n",
       "1237858         2  2021-01-31 23:25:13   2021-01-31 23:37:16                2   \n",
       "1237859         2  2021-01-31 23:36:30   2021-01-31 23:51:58                2   \n",
       "1237863         2  2021-01-31 23:12:06   2021-01-31 23:12:13                1   \n",
       "1237867         2  2021-01-31 23:09:52   2021-01-31 23:51:56                2   \n",
       "1237868         2  2021-01-31 23:26:15   2021-01-31 23:33:48                2   \n",
       "\n",
       "         trip_distance  RatecodeID store_and_fwd_flag  PULocationID  \\\n",
       "2                14.70           1                  N           132   \n",
       "3                 4.94           1                  N            68   \n",
       "4                 1.60           1                  N           224   \n",
       "8                 2.70           1                  N           263   \n",
       "9                 6.11           1                  N           164   \n",
       "...                ...         ...                ...           ...   \n",
       "1237858           2.87           1                  N           230   \n",
       "1237859           8.74           1                  N           132   \n",
       "1237863           0.00           5                  N           265   \n",
       "1237867          10.56           1                  N            56   \n",
       "1237868           1.93           1                  N           230   \n",
       "\n",
       "         DOLocationID  fare_amount  ...  tolls_amount        tripId  \\\n",
       "2                 165         42.0  ...          0.00  267031741304   \n",
       "3                  33         16.5  ...          0.00  603494714228   \n",
       "4                  68          8.0  ...          0.00  796431455521   \n",
       "8                 142         12.0  ...          0.00  762316622020   \n",
       "9                 255         20.5  ...          0.00  410196195773   \n",
       "...               ...          ...  ...           ...           ...   \n",
       "1237858            75         11.0  ...          0.00  540317926189   \n",
       "1237859           131         25.0  ...          0.00  574343975705   \n",
       "1237863           265        200.0  ...          0.00  570663266304   \n",
       "1237867            68         37.5  ...          6.12  671711024112   \n",
       "1237868           229          7.5  ...          0.00  797365950172   \n",
       "\n",
       "         improvement_surcharge  congestion_surcharge  tip_ratio  Hour     DoW  \\\n",
       "2                          0.3                   0.0   0.205952     0  Friday   \n",
       "3                          0.3                   2.5   0.246061     0  Friday   \n",
       "4                          0.3                   2.5   0.293750     0  Friday   \n",
       "8                          0.3                   2.5   0.262500     0  Friday   \n",
       "9                          0.3                   2.5   0.000000     0  Friday   \n",
       "...                        ...                   ...        ...   ...     ...   \n",
       "1237858                    0.3                   2.5   0.018182    23  Sunday   \n",
       "1237859                    0.3                   0.0   0.000000    23  Sunday   \n",
       "1237863                    0.3                   0.0   0.050000    23  Sunday   \n",
       "1237867                    0.3                   0.0   0.000000    23  Sunday   \n",
       "1237868                    0.3                   2.5   0.301333    23  Sunday   \n",
       "\n",
       "                               vendor_name         RateCode payment_type  \n",
       "2        Creative Mobile Technologies, LLC    Standard rate  Credit card  \n",
       "3                            VeriFone Inc.    Standard rate  Credit card  \n",
       "4        Creative Mobile Technologies, LLC    Standard rate  Credit card  \n",
       "8        Creative Mobile Technologies, LLC    Standard rate  Credit card  \n",
       "9                            VeriFone Inc.    Standard rate  Credit card  \n",
       "...                                    ...              ...          ...  \n",
       "1237858                      VeriFone Inc.    Standard rate  Credit card  \n",
       "1237859                      VeriFone Inc.    Standard rate  Credit card  \n",
       "1237863                      VeriFone Inc.  Negotiated fare  Credit card  \n",
       "1237867                      VeriFone Inc.    Standard rate  Credit card  \n",
       "1237868                      VeriFone Inc.    Standard rate  Credit card  \n",
       "\n",
       "[915084 rows x 23 columns]"
      ]
     },
     "execution_count": 58,
     "metadata": {},
     "output_type": "execute_result"
    }
   ],
   "source": [
    "credit_card_trx"
   ]
  },
  {
   "cell_type": "code",
   "execution_count": 59,
   "id": "3d6f5e3e",
   "metadata": {},
   "outputs": [
    {
     "data": {
      "text/plain": [
       "<AxesSubplot:xlabel='tip_amount'>"
      ]
     },
     "execution_count": 59,
     "metadata": {},
     "output_type": "execute_result"
    },
    {
     "data": {
      "image/png": "[encoded data removed]",
      "text/plain": [
       "<Figure size 432x288 with 1 Axes>"
      ]
     },
     "metadata": {},
     "output_type": "display_data"
    }
   ],
   "source": [
    "sns.boxplot(x=credit_card_trx['tip_amount'])"
   ]
  },
  {
   "cell_type": "code",
   "execution_count": 60,
   "id": "ed473da2",
   "metadata": {},
   "outputs": [
    {
     "data": {
      "text/html": [
       "<div>\n",
       "<style scoped>\n",
       "    .dataframe tbody tr th:only-of-type {\n",
       "        vertical-align: middle;\n",
       "    }\n",
       "\n",
       "    .dataframe tbody tr th {\n",
       "        vertical-align: top;\n",
       "    }\n",
       "\n",
       "    .dataframe thead th {\n",
       "        text-align: right;\n",
       "    }\n",
       "</style>\n",
       "<table border=\"1\" class=\"dataframe\">\n",
       "  <thead>\n",
       "    <tr style=\"text-align: right;\">\n",
       "      <th></th>\n",
       "      <th>VendorID</th>\n",
       "      <th>tpep_pickup_datetime</th>\n",
       "      <th>tpep_dropoff_datetime</th>\n",
       "      <th>passenger_count</th>\n",
       "      <th>trip_distance</th>\n",
       "      <th>RatecodeID</th>\n",
       "      <th>store_and_fwd_flag</th>\n",
       "      <th>PULocationID</th>\n",
       "      <th>DOLocationID</th>\n",
       "      <th>fare_amount</th>\n",
       "      <th>...</th>\n",
       "      <th>tolls_amount</th>\n",
       "      <th>tripId</th>\n",
       "      <th>improvement_surcharge</th>\n",
       "      <th>congestion_surcharge</th>\n",
       "      <th>tip_ratio</th>\n",
       "      <th>Hour</th>\n",
       "      <th>DoW</th>\n",
       "      <th>vendor_name</th>\n",
       "      <th>RateCode</th>\n",
       "      <th>payment_type</th>\n",
       "    </tr>\n",
       "  </thead>\n",
       "  <tbody>\n",
       "    <tr>\n",
       "      <th>3</th>\n",
       "      <td>2</td>\n",
       "      <td>2021-01-01 00:31:49</td>\n",
       "      <td>2021-01-01 00:48:21</td>\n",
       "      <td>1</td>\n",
       "      <td>4.94</td>\n",
       "      <td>1</td>\n",
       "      <td>N</td>\n",
       "      <td>68</td>\n",
       "      <td>33</td>\n",
       "      <td>16.5</td>\n",
       "      <td>...</td>\n",
       "      <td>0.00</td>\n",
       "      <td>603494714228</td>\n",
       "      <td>0.3</td>\n",
       "      <td>2.5</td>\n",
       "      <td>0.246061</td>\n",
       "      <td>0</td>\n",
       "      <td>Friday</td>\n",
       "      <td>VeriFone Inc.</td>\n",
       "      <td>Standard rate</td>\n",
       "      <td>Credit card</td>\n",
       "    </tr>\n",
       "    <tr>\n",
       "      <th>4</th>\n",
       "      <td>1</td>\n",
       "      <td>2021-01-01 00:16:29</td>\n",
       "      <td>2021-01-01 00:24:30</td>\n",
       "      <td>1</td>\n",
       "      <td>1.60</td>\n",
       "      <td>1</td>\n",
       "      <td>N</td>\n",
       "      <td>224</td>\n",
       "      <td>68</td>\n",
       "      <td>8.0</td>\n",
       "      <td>...</td>\n",
       "      <td>0.00</td>\n",
       "      <td>796431455521</td>\n",
       "      <td>0.3</td>\n",
       "      <td>2.5</td>\n",
       "      <td>0.293750</td>\n",
       "      <td>0</td>\n",
       "      <td>Friday</td>\n",
       "      <td>Creative Mobile Technologies, LLC</td>\n",
       "      <td>Standard rate</td>\n",
       "      <td>Credit card</td>\n",
       "    </tr>\n",
       "    <tr>\n",
       "      <th>8</th>\n",
       "      <td>1</td>\n",
       "      <td>2021-01-01 00:26:12</td>\n",
       "      <td>2021-01-01 00:39:46</td>\n",
       "      <td>2</td>\n",
       "      <td>2.70</td>\n",
       "      <td>1</td>\n",
       "      <td>N</td>\n",
       "      <td>263</td>\n",
       "      <td>142</td>\n",
       "      <td>12.0</td>\n",
       "      <td>...</td>\n",
       "      <td>0.00</td>\n",
       "      <td>762316622020</td>\n",
       "      <td>0.3</td>\n",
       "      <td>2.5</td>\n",
       "      <td>0.262500</td>\n",
       "      <td>0</td>\n",
       "      <td>Friday</td>\n",
       "      <td>Creative Mobile Technologies, LLC</td>\n",
       "      <td>Standard rate</td>\n",
       "      <td>Credit card</td>\n",
       "    </tr>\n",
       "    <tr>\n",
       "      <th>9</th>\n",
       "      <td>2</td>\n",
       "      <td>2021-01-01 00:15:52</td>\n",
       "      <td>2021-01-01 00:38:07</td>\n",
       "      <td>3</td>\n",
       "      <td>6.11</td>\n",
       "      <td>1</td>\n",
       "      <td>N</td>\n",
       "      <td>164</td>\n",
       "      <td>255</td>\n",
       "      <td>20.5</td>\n",
       "      <td>...</td>\n",
       "      <td>0.00</td>\n",
       "      <td>410196195773</td>\n",
       "      <td>0.3</td>\n",
       "      <td>2.5</td>\n",
       "      <td>0.000000</td>\n",
       "      <td>0</td>\n",
       "      <td>Friday</td>\n",
       "      <td>VeriFone Inc.</td>\n",
       "      <td>Standard rate</td>\n",
       "      <td>Credit card</td>\n",
       "    </tr>\n",
       "    <tr>\n",
       "      <th>10</th>\n",
       "      <td>2</td>\n",
       "      <td>2021-01-01 00:46:36</td>\n",
       "      <td>2021-01-01 00:53:45</td>\n",
       "      <td>2</td>\n",
       "      <td>1.21</td>\n",
       "      <td>1</td>\n",
       "      <td>N</td>\n",
       "      <td>255</td>\n",
       "      <td>80</td>\n",
       "      <td>7.0</td>\n",
       "      <td>...</td>\n",
       "      <td>0.00</td>\n",
       "      <td>102898637308</td>\n",
       "      <td>0.3</td>\n",
       "      <td>0.0</td>\n",
       "      <td>0.355714</td>\n",
       "      <td>0</td>\n",
       "      <td>Friday</td>\n",
       "      <td>VeriFone Inc.</td>\n",
       "      <td>Standard rate</td>\n",
       "      <td>Credit card</td>\n",
       "    </tr>\n",
       "    <tr>\n",
       "      <th>...</th>\n",
       "      <td>...</td>\n",
       "      <td>...</td>\n",
       "      <td>...</td>\n",
       "      <td>...</td>\n",
       "      <td>...</td>\n",
       "      <td>...</td>\n",
       "      <td>...</td>\n",
       "      <td>...</td>\n",
       "      <td>...</td>\n",
       "      <td>...</td>\n",
       "      <td>...</td>\n",
       "      <td>...</td>\n",
       "      <td>...</td>\n",
       "      <td>...</td>\n",
       "      <td>...</td>\n",
       "      <td>...</td>\n",
       "      <td>...</td>\n",
       "      <td>...</td>\n",
       "      <td>...</td>\n",
       "      <td>...</td>\n",
       "      <td>...</td>\n",
       "    </tr>\n",
       "    <tr>\n",
       "      <th>1237857</th>\n",
       "      <td>2</td>\n",
       "      <td>2021-01-31 23:11:27</td>\n",
       "      <td>2021-01-31 23:33:50</td>\n",
       "      <td>1</td>\n",
       "      <td>5.52</td>\n",
       "      <td>1</td>\n",
       "      <td>N</td>\n",
       "      <td>163</td>\n",
       "      <td>256</td>\n",
       "      <td>19.5</td>\n",
       "      <td>...</td>\n",
       "      <td>0.00</td>\n",
       "      <td>831175247345</td>\n",
       "      <td>0.3</td>\n",
       "      <td>2.5</td>\n",
       "      <td>0.238974</td>\n",
       "      <td>23</td>\n",
       "      <td>Sunday</td>\n",
       "      <td>VeriFone Inc.</td>\n",
       "      <td>Standard rate</td>\n",
       "      <td>Credit card</td>\n",
       "    </tr>\n",
       "    <tr>\n",
       "      <th>1237858</th>\n",
       "      <td>2</td>\n",
       "      <td>2021-01-31 23:25:13</td>\n",
       "      <td>2021-01-31 23:37:16</td>\n",
       "      <td>2</td>\n",
       "      <td>2.87</td>\n",
       "      <td>1</td>\n",
       "      <td>N</td>\n",
       "      <td>230</td>\n",
       "      <td>75</td>\n",
       "      <td>11.0</td>\n",
       "      <td>...</td>\n",
       "      <td>0.00</td>\n",
       "      <td>540317926189</td>\n",
       "      <td>0.3</td>\n",
       "      <td>2.5</td>\n",
       "      <td>0.018182</td>\n",
       "      <td>23</td>\n",
       "      <td>Sunday</td>\n",
       "      <td>VeriFone Inc.</td>\n",
       "      <td>Standard rate</td>\n",
       "      <td>Credit card</td>\n",
       "    </tr>\n",
       "    <tr>\n",
       "      <th>1237859</th>\n",
       "      <td>2</td>\n",
       "      <td>2021-01-31 23:36:30</td>\n",
       "      <td>2021-01-31 23:51:58</td>\n",
       "      <td>2</td>\n",
       "      <td>8.74</td>\n",
       "      <td>1</td>\n",
       "      <td>N</td>\n",
       "      <td>132</td>\n",
       "      <td>131</td>\n",
       "      <td>25.0</td>\n",
       "      <td>...</td>\n",
       "      <td>0.00</td>\n",
       "      <td>574343975705</td>\n",
       "      <td>0.3</td>\n",
       "      <td>0.0</td>\n",
       "      <td>0.000000</td>\n",
       "      <td>23</td>\n",
       "      <td>Sunday</td>\n",
       "      <td>VeriFone Inc.</td>\n",
       "      <td>Standard rate</td>\n",
       "      <td>Credit card</td>\n",
       "    </tr>\n",
       "    <tr>\n",
       "      <th>1237867</th>\n",
       "      <td>2</td>\n",
       "      <td>2021-01-31 23:09:52</td>\n",
       "      <td>2021-01-31 23:51:56</td>\n",
       "      <td>2</td>\n",
       "      <td>10.56</td>\n",
       "      <td>1</td>\n",
       "      <td>N</td>\n",
       "      <td>56</td>\n",
       "      <td>68</td>\n",
       "      <td>37.5</td>\n",
       "      <td>...</td>\n",
       "      <td>6.12</td>\n",
       "      <td>671711024112</td>\n",
       "      <td>0.3</td>\n",
       "      <td>0.0</td>\n",
       "      <td>0.000000</td>\n",
       "      <td>23</td>\n",
       "      <td>Sunday</td>\n",
       "      <td>VeriFone Inc.</td>\n",
       "      <td>Standard rate</td>\n",
       "      <td>Credit card</td>\n",
       "    </tr>\n",
       "    <tr>\n",
       "      <th>1237868</th>\n",
       "      <td>2</td>\n",
       "      <td>2021-01-31 23:26:15</td>\n",
       "      <td>2021-01-31 23:33:48</td>\n",
       "      <td>2</td>\n",
       "      <td>1.93</td>\n",
       "      <td>1</td>\n",
       "      <td>N</td>\n",
       "      <td>230</td>\n",
       "      <td>229</td>\n",
       "      <td>7.5</td>\n",
       "      <td>...</td>\n",
       "      <td>0.00</td>\n",
       "      <td>797365950172</td>\n",
       "      <td>0.3</td>\n",
       "      <td>2.5</td>\n",
       "      <td>0.301333</td>\n",
       "      <td>23</td>\n",
       "      <td>Sunday</td>\n",
       "      <td>VeriFone Inc.</td>\n",
       "      <td>Standard rate</td>\n",
       "      <td>Credit card</td>\n",
       "    </tr>\n",
       "  </tbody>\n",
       "</table>\n",
       "<p>880305 rows × 23 columns</p>\n",
       "</div>"
      ],
      "text/plain": [
       "         VendorID tpep_pickup_datetime tpep_dropoff_datetime  passenger_count  \\\n",
       "3               2  2021-01-01 00:31:49   2021-01-01 00:48:21                1   \n",
       "4               1  2021-01-01 00:16:29   2021-01-01 00:24:30                1   \n",
       "8               1  2021-01-01 00:26:12   2021-01-01 00:39:46                2   \n",
       "9               2  2021-01-01 00:15:52   2021-01-01 00:38:07                3   \n",
       "10              2  2021-01-01 00:46:36   2021-01-01 00:53:45                2   \n",
       "...           ...                  ...                   ...              ...   \n",
       "1237857         2  2021-01-31 23:11:27   2021-01-31 23:33:50                1   \n",
       "1237858         2  2021-01-31 23:25:13   2021-01-31 23:37:16                2   \n",
       "1237859         2  2021-01-31 23:36:30   2021-01-31 23:51:58                2   \n",
       "1237867         2  2021-01-31 23:09:52   2021-01-31 23:51:56                2   \n",
       "1237868         2  2021-01-31 23:26:15   2021-01-31 23:33:48                2   \n",
       "\n",
       "         trip_distance  RatecodeID store_and_fwd_flag  PULocationID  \\\n",
       "3                 4.94           1                  N            68   \n",
       "4                 1.60           1                  N           224   \n",
       "8                 2.70           1                  N           263   \n",
       "9                 6.11           1                  N           164   \n",
       "10                1.21           1                  N           255   \n",
       "...                ...         ...                ...           ...   \n",
       "1237857           5.52           1                  N           163   \n",
       "1237858           2.87           1                  N           230   \n",
       "1237859           8.74           1                  N           132   \n",
       "1237867          10.56           1                  N            56   \n",
       "1237868           1.93           1                  N           230   \n",
       "\n",
       "         DOLocationID  fare_amount  ...  tolls_amount        tripId  \\\n",
       "3                  33         16.5  ...          0.00  603494714228   \n",
       "4                  68          8.0  ...          0.00  796431455521   \n",
       "8                 142         12.0  ...          0.00  762316622020   \n",
       "9                 255         20.5  ...          0.00  410196195773   \n",
       "10                 80          7.0  ...          0.00  102898637308   \n",
       "...               ...          ...  ...           ...           ...   \n",
       "1237857           256         19.5  ...          0.00  831175247345   \n",
       "1237858            75         11.0  ...          0.00  540317926189   \n",
       "1237859           131         25.0  ...          0.00  574343975705   \n",
       "1237867            68         37.5  ...          6.12  671711024112   \n",
       "1237868           229          7.5  ...          0.00  797365950172   \n",
       "\n",
       "         improvement_surcharge  congestion_surcharge  tip_ratio  Hour     DoW  \\\n",
       "3                          0.3                   2.5   0.246061     0  Friday   \n",
       "4                          0.3                   2.5   0.293750     0  Friday   \n",
       "8                          0.3                   2.5   0.262500     0  Friday   \n",
       "9                          0.3                   2.5   0.000000     0  Friday   \n",
       "10                         0.3                   0.0   0.355714     0  Friday   \n",
       "...                        ...                   ...        ...   ...     ...   \n",
       "1237857                    0.3                   2.5   0.238974    23  Sunday   \n",
       "1237858                    0.3                   2.5   0.018182    23  Sunday   \n",
       "1237859                    0.3                   0.0   0.000000    23  Sunday   \n",
       "1237867                    0.3                   0.0   0.000000    23  Sunday   \n",
       "1237868                    0.3                   2.5   0.301333    23  Sunday   \n",
       "\n",
       "                               vendor_name       RateCode payment_type  \n",
       "3                            VeriFone Inc.  Standard rate  Credit card  \n",
       "4        Creative Mobile Technologies, LLC  Standard rate  Credit card  \n",
       "8        Creative Mobile Technologies, LLC  Standard rate  Credit card  \n",
       "9                            VeriFone Inc.  Standard rate  Credit card  \n",
       "10                           VeriFone Inc.  Standard rate  Credit card  \n",
       "...                                    ...            ...          ...  \n",
       "1237857                      VeriFone Inc.  Standard rate  Credit card  \n",
       "1237858                      VeriFone Inc.  Standard rate  Credit card  \n",
       "1237859                      VeriFone Inc.  Standard rate  Credit card  \n",
       "1237867                      VeriFone Inc.  Standard rate  Credit card  \n",
       "1237868                      VeriFone Inc.  Standard rate  Credit card  \n",
       "\n",
       "[880305 rows x 23 columns]"
      ]
     },
     "execution_count": 60,
     "metadata": {},
     "output_type": "execute_result"
    }
   ],
   "source": [
    "tip_lim = credit_card_trx[credit_card_trx['tip_amount']<=6.75]\n",
    "tip_lim"
   ]
  },
  {
   "cell_type": "code",
   "execution_count": 61,
   "id": "f03c579d",
   "metadata": {},
   "outputs": [
    {
     "data": {
      "text/plain": [
       "<AxesSubplot:xlabel='tip_amount', ylabel='fare_amount'>"
      ]
     },
     "execution_count": 61,
     "metadata": {},
     "output_type": "execute_result"
    },
    {
     "data": {
      "image/png": "[encoded data removed]",
      "text/plain": [
       "<Figure size 432x288 with 1 Axes>"
      ]
     },
     "metadata": {},
     "output_type": "display_data"
    }
   ],
   "source": [
    "sns.scatterplot(data=tip_lim, x=\"tip_amount\", y=\"fare_amount\")"
   ]
  },
  {
   "cell_type": "markdown",
   "id": "7b65de2d",
   "metadata": {},
   "source": [
    "# Congestion Surcharge Analysis"
   ]
  },
  {
   "cell_type": "code",
   "execution_count": 62,
   "id": "56155cd1",
   "metadata": {},
   "outputs": [
    {
     "name": "stderr",
     "output_type": "stream",
     "text": [
      "/Users/top/opt/anaconda3/lib/python3.7/site-packages/seaborn/_decorators.py:43: FutureWarning: Pass the following variables as keyword args: x, y. From version 0.12, the only valid positional argument will be `data`, and passing other arguments without an explicit keyword will result in an error or misinterpretation.\n",
      "  FutureWarning\n"
     ]
    },
    {
     "data": {
      "text/plain": [
       "<AxesSubplot:xlabel='trip_distance', ylabel='congestion_surcharge'>"
      ]
     },
     "execution_count": 62,
     "metadata": {},
     "output_type": "execute_result"
    },
    {
     "data": {
      "image/png": "[encoded data removed]",
      "text/plain": [
       "<Figure size 432x288 with 1 Axes>"
      ]
     },
     "metadata": {},
     "output_type": "display_data"
    }
   ],
   "source": [
    "sns.scatterplot(final['trip_distance'], final['congestion_surcharge'])"
   ]
  },
  {
   "cell_type": "code",
   "execution_count": 63,
   "id": "6e37269b",
   "metadata": {},
   "outputs": [
    {
     "data": {
      "text/plain": [
       "VendorID                          int64\n",
       "tpep_pickup_datetime     datetime64[ns]\n",
       "tpep_dropoff_datetime    datetime64[ns]\n",
       "passenger_count                   int64\n",
       "trip_distance                   float64\n",
       "RatecodeID                        int64\n",
       "store_and_fwd_flag             category\n",
       "PULocationID                      int64\n",
       "DOLocationID                      int64\n",
       "fare_amount                     float64\n",
       "extra                           float64\n",
       "mta_tax                         float64\n",
       "tip_amount                      float64\n",
       "tolls_amount                    float64\n",
       "tripId                            int64\n",
       "improvement_surcharge           float64\n",
       "congestion_surcharge            float64\n",
       "tip_ratio                       float64\n",
       "Hour                              int64\n",
       "DoW                              object\n",
       "vendor_name                      object\n",
       "RateCode                         object\n",
       "payment_type                     object\n",
       "dtype: object"
      ]
     },
     "execution_count": 63,
     "metadata": {},
     "output_type": "execute_result"
    }
   ],
   "source": [
    "final.dtypes"
   ]
  },
  {
   "cell_type": "code",
   "execution_count": 64,
   "id": "f8cb970a",
   "metadata": {},
   "outputs": [],
   "source": [
    "final['trip_time'] = final['tpep_dropoff_datetime'] - final['tpep_pickup_datetime']\n"
   ]
  },
  {
   "cell_type": "code",
   "execution_count": 65,
   "id": "a119e78c",
   "metadata": {},
   "outputs": [],
   "source": [
    "final['trip_time(min)'] = final['trip_time'].dt.seconds / 60\n"
   ]
  },
  {
   "cell_type": "code",
   "execution_count": 66,
   "id": "5daedf69",
   "metadata": {},
   "outputs": [
    {
     "name": "stderr",
     "output_type": "stream",
     "text": [
      "/Users/top/opt/anaconda3/lib/python3.7/site-packages/ipykernel_launcher.py:1: FutureWarning: casting timedelta64[ns] values to int64 with .astype(...) is deprecated and will raise in a future version. Use .view(...) instead.\n",
      "  \"\"\"Entry point for launching an IPython kernel.\n"
     ]
    }
   ],
   "source": [
    "final['trip_velocity'] = final['trip_distance'] / final['trip_time'].astype('int')\n"
   ]
  },
  {
   "cell_type": "code",
   "execution_count": 67,
   "id": "39effeb1",
   "metadata": {},
   "outputs": [
    {
     "name": "stderr",
     "output_type": "stream",
     "text": [
      "/Users/top/opt/anaconda3/lib/python3.7/site-packages/seaborn/_decorators.py:43: FutureWarning: Pass the following variables as keyword args: x, y. From version 0.12, the only valid positional argument will be `data`, and passing other arguments without an explicit keyword will result in an error or misinterpretation.\n",
      "  FutureWarning\n"
     ]
    },
    {
     "data": {
      "text/plain": [
       "<AxesSubplot:xlabel='trip_time(min)', ylabel='congestion_surcharge'>"
      ]
     },
     "execution_count": 67,
     "metadata": {},
     "output_type": "execute_result"
    },
    {
     "data": {
      "image/png": "[encoded data removed]",
      "text/plain": [
       "<Figure size 432x288 with 1 Axes>"
      ]
     },
     "metadata": {},
     "output_type": "display_data"
    }
   ],
   "source": [
    "sns.scatterplot(final['trip_time(min)'], final['congestion_surcharge'])"
   ]
  },
  {
   "cell_type": "code",
   "execution_count": 68,
   "id": "453256c8",
   "metadata": {},
   "outputs": [
    {
     "name": "stderr",
     "output_type": "stream",
     "text": [
      "/Users/top/opt/anaconda3/lib/python3.7/site-packages/seaborn/_decorators.py:43: FutureWarning: Pass the following variables as keyword args: x, y. From version 0.12, the only valid positional argument will be `data`, and passing other arguments without an explicit keyword will result in an error or misinterpretation.\n",
      "  FutureWarning\n"
     ]
    },
    {
     "data": {
      "text/plain": [
       "<AxesSubplot:xlabel='trip_velocity', ylabel='congestion_surcharge'>"
      ]
     },
     "execution_count": 68,
     "metadata": {},
     "output_type": "execute_result"
    },
    {
     "data": {
      "image/png": "[encoded data removed]",
      "text/plain": [
       "<Figure size 432x288 with 1 Axes>"
      ]
     },
     "metadata": {},
     "output_type": "display_data"
    }
   ],
   "source": [
    "sns.scatterplot(final['trip_velocity'], final['congestion_surcharge'])"
   ]
  },
  {
   "cell_type": "code",
   "execution_count": null,
   "id": "69b4a5e6",
   "metadata": {},
   "outputs": [],
   "source": []
  }
 ],
 "metadata": {
  "kernelspec": {
   "display_name": "Python 3 (ipykernel)",
   "language": "python",
   "name": "python3"
  },
  "language_info": {
   "codemirror_mode": {
    "name": "ipython",
    "version": 3
   },
   "file_extension": ".py",
   "mimetype": "text/x-python",
   "name": "python",
   "nbconvert_exporter": "python",
   "pygments_lexer": "ipython3",
   "version": "3.7.7"
  }
 },
 "nbformat": 4,
 "nbformat_minor": 5
}
